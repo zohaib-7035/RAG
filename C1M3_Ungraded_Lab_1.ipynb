{
 "cells": [
  {
   "cell_type": "markdown",
   "metadata": {},
   "source": [
    "# Ungraded Lab - Introduction to Weaviate API\n",
    "\n",
    "\n",
    "<div align=\"center\">\n",
    "  <img src=\"images/weaviate.png\" alt=\"RAG Overview\" width=\"10%\">\n",
    "</div>\n",
    "\n",
    "Welcome to the ungraded lab about the Weaviate API! As you dive into the world of vector databases, you'll discover that there are several options available to help you build your RAG systems. In this course, you'll focus on the [Weaviate API](https://weaviate.io/).\n",
    "\n",
    "This lab is designed to give you a hands-on introduction to Weaviate, so you'll be well-prepared for the upcoming assignment. You'll explore how Weaviate functions, what it can do, and how to make the most of its features. By the time you reach the assignment, you'll have the tools and knowledge you need to succeed.\n",
    "\n",
    "Let's go!"
   ]
  },
  {
   "cell_type": "markdown",
   "metadata": {},
   "source": [
    "\n",
    "# Table of Contents\n",
    "- [ 1 - Introduction](#1)\n",
    "  - [ 1.1 Loading the necessary libraries](#1-1)\n",
    "  - [ 1.2 - The Weaviate Client](#1-2)\n",
    "- [ 2 - Configuring the database](#2)\n",
    "  - [ 2.1 Creating a Collection](#2-1)\n",
    "  - [ 2.2 Configuring the Vectorizer](#2-2)\n",
    "  - [ 2.3 The Properties](#2-3)\n",
    "  - [ 2.4 Adding elements into a Collection](#2-4)\n",
    "- [ 3 - Querying on a collection](#3)\n",
    "  - [ 3.1 Filters](#3-1)\n",
    "  - [ 3.2 Semantic Search](#3-2)\n",
    "  - [ 3.3 BM25 search](#3-3)\n",
    "  - [ 3.4 Hybrid Search](#3-4)\n",
    "  - [ 3.5 Reranking](#3-5)\n"
   ]
  },
  {
   "cell_type": "markdown",
   "metadata": {},
   "source": [
    "---\n",
    "<h4 style=\"color:black; font-weight:bold;\">USING THE TABLE OF CONTENTS</h4>\n",
    "\n",
    "JupyterLab provides an easy way for you to navigate through your assignment. It's located under the Table of Contents tab, found in the left panel, as shown in the picture below.\n",
    "\n",
    "![TOC Location](images/toc.png)\n",
    "\n",
    "---"
   ]
  },
  {
   "cell_type": "markdown",
   "metadata": {},
   "source": [
    "<a id='1'></a>\n",
    "## 1 - Introduction\n",
    "---\n",
    "<a id='1-1'></a>\n",
    "### 1.1 Loading the necessary libraries\n",
    "Run the cell below to load the necesary libraries for this assignment."
   ]
  },
  {
   "cell_type": "code",
   "execution_count": 1,
   "metadata": {
    "deletable": true,
    "editable": true,
    "tags": [
     "graded"
    ]
   },
   "outputs": [],
   "source": [
    "from weaviate.classes.config import Configure, Property, DataType\n",
    "from weaviate.classes.query import Filter\n",
    "from typing import List\n",
    "from tqdm import tqdm\n",
    "import joblib\n",
    "import weaviate\n",
    "import re\n",
    "from weaviate.util import generate_uuid5\n",
    "from pprint import pprint\n",
    "import os"
   ]
  },
  {
   "cell_type": "code",
   "execution_count": 2,
   "metadata": {
    "deletable": true,
    "editable": true,
    "tags": []
   },
   "outputs": [
    {
     "name": "stdout",
     "output_type": "stream",
     "text": [
      " * Serving Flask app 'flask_app'\n",
      " * Debug mode: off\n"
     ]
    },
    {
     "name": "stderr",
     "output_type": "stream",
     "text": [
      "You're using a XLMRobertaTokenizerFast tokenizer. Please note that with a fast tokenizer, using the `__call__` method is faster than using a method to encode the text followed by a call to the `pad` method to get a padded encoding.\n"
     ]
    }
   ],
   "source": [
    "import flask_app\n",
    "from utils import (\n",
    "    suppress_subprocess_output, \n",
    "    generate_with_single_input, \n",
    "    print_object_properties\n",
    ")"
   ]
  },
  {
   "cell_type": "markdown",
   "metadata": {},
   "source": [
    "<a id='1-2'></a>\n",
    "### 1.2 - The Weaviate Client\n",
    "\n",
    "To start working with the Weaviate API in this environment, you need to start a `client`. In this course, you will use an *embedded client*, which is a way of using Weaviate within this application and not relying on a stand-alone instance of Weaviate running. \n",
    "\n",
    "When you start `Embedded Weaviate` for the first time, it creates a data storage file at the location you specify in `persistence_data_path`. Even after you close your client and Embedded Weaviate shuts down, your data will still be saved there. \n",
    "\n",
    "When creating your Weaviate client, you must pass an embedding model to perform vectorization. You can pass different models and Weaviate has different modules to help you call `OpenAI` models and others. Since OpenAI is a paid system, we will use a local model to perform the vectorization. \n",
    "\n",
    "One example to load an OpenAI model is this call:\n",
    "\n",
    "\n",
    "```Python\n",
    "import weaviate\n",
    "client = weaviate.connect_to_embedded(\n",
    "    version=\"1.26.1\",\n",
    "    headers={\n",
    "        \"X-OpenAI-Api-Key\": YOUR_OPENAI_API_KEY\n",
    "    },\n",
    ")\n",
    "```"
   ]
  },
  {
   "cell_type": "markdown",
   "metadata": {},
   "source": [
    "Let's load our client! \n",
    "\n",
    "This function `suppress_subprocess_output()` is designed to suppress the Weaviate output logs, which can pollute the lab. These logs won't be explored in this lab, but feel free to remove it if you are curious about what the logs look like! The arguments it will be using are:\n",
    "\n",
    "- `persistence_data_path`: The path where the client will look for (and create) the vector databases. Once you create it, it is stored there and persisted, i.e., it won't be deleted once you close the client!\n",
    "- `environment_vabiables`: Necessary variables that we must pass to make the local embedding server to work. "
   ]
  },
  {
   "cell_type": "code",
   "execution_count": 3,
   "metadata": {
    "deletable": true,
    "editable": true,
    "tags": []
   },
   "outputs": [],
   "source": [
    "with suppress_subprocess_output():\n",
    "    client = weaviate.connect_to_embedded(\n",
    "        persistence_data_path=\"./.collections\",\n",
    "        environment_variables={\n",
    "            \"ENABLE_API_BASED_MODULES\": \"true\", # Enable API based modules \n",
    "            \"ENABLE_MODULES\": 'text2vec-transformers, reranker-transformers', # We will be using a transformer model\n",
    "            \"TRANSFORMERS_INFERENCE_API\":\"http://127.0.0.1:5000/\", # The endpoint the weaviate API will be using to vectorize\n",
    "            \"RERANKER_INFERENCE_API\":\"http://127.0.0.1:5000/\" # The endpoint the weaviate API will be using to rerank\n",
    "        }\n",
    "    )"
   ]
  },
  {
   "cell_type": "markdown",
   "metadata": {},
   "source": [
    "With the defined `client`, your primary usage is creating a collection, adding elements to it and querying over it."
   ]
  },
  {
   "cell_type": "markdown",
   "metadata": {},
   "source": [
    "<a id='2'></a>\n",
    "## 2 - Configuring the database\n",
    "\n",
    "---\n",
    "\n",
    "In this section, you will explore the central object in this lab and in this assignment: [the collection](https://weaviate.io/developers/weaviate/manage-data/collections) - this is the name Weaviate gives to a group of data objects which will be indexed for retrieval. Remember the workflow from the lectures:\n",
    "\n",
    "<div align=\"center\">\n",
    "  <img src=\"images/workflow.png\" alt=\"RAG Overview\" width=\"60%\">\n",
    "</div>\n",
    "\n",
    "\n",
    "<a id='2-1'></a>\n",
    "### 2.1 Creating a Collection\n",
    "\n",
    "To create a collection, there are some parameters that must be set. The most important for our purposes are:\n",
    "\n",
    "- `name`: the collection name, this is the name that will be saved in memory and the name that you will need to load it.\n",
    "- `vectorizer_config`: a list with vectorizer configurations. You can pass more than one vectorizer configuration, which means that in the same vector database, you can vectorize your datapoints with different embedding models. In your context, you will be using only one.\n",
    "\n",
    "Let's load a database to illustrate this section."
   ]
  },
  {
   "cell_type": "code",
   "execution_count": 4,
   "metadata": {
    "tags": []
   },
   "outputs": [
    {
     "name": "stdout",
     "output_type": "stream",
     "text": [
      "place: Grand Canyon\n",
      "state: Arizona\n",
      "description: A stunning canyon with vast vistas and incredible geology.\n",
      "best_season_to_visit: Spring, Fall\n",
      "attractions: South Rim, Havasu Falls, Skywalk\n",
      "budget: Moderate\n",
      "user_ratings: 4.8\n",
      "last_updated: 2023-10-01T00:00:00Z\n",
      "\n"
     ]
    }
   ],
   "source": [
    "data = joblib.load(\"data.joblib\")\n",
    "print_object_properties(data[0])"
   ]
  },
  {
   "cell_type": "markdown",
   "metadata": {},
   "source": [
    "The dataset is a set of places to visit, with some properties describing each location. The properties here are `place, state, description, best_season_to_visit, attractions, budget, user_ratings, last_updated`. When creating a collection, you must create one property for each key in this dictionary and add the expected datatype. "
   ]
  },
  {
   "cell_type": "markdown",
   "metadata": {},
   "source": [
    "<a id='2-2'></a>\n",
    "### 2.2 Configuring the Vectorizer\n",
    "\n",
    "As mentioned before, you will use the `text2vec_transformers` embedding model to vectorize your data. To configure it, you must pass the corresponding Configure object. When configuring the vectorizer, you can pass a list of different vectorizers, so your collection can store several vectorizations for the same object. You can also choose to vectorize specific properties on specific vectorizers. In this course you will stick with one vectorizer. Not every property must be vectorized, it depends on the data and the information you want to retrieve.\n",
    "\n",
    "In this case, let's use the following properties to be vectorized:\n",
    "\n",
    "`place, state, description, best_season_to_visit, attractions, budget`\n",
    "\n",
    "These properties will be appended to each other and then vectorized. When defining the property, you might choose to add the property name or not in the vectorization. Note that it would make sense to have the property name in budget, for example, as only the word \"Moderate\" would not provide enough information about what \"Moderate\" stands for."
   ]
  },
  {
   "cell_type": "code",
   "execution_count": 5,
   "metadata": {
    "tags": []
   },
   "outputs": [],
   "source": [
    "vectorizer_config = [Configure.NamedVectors.text2vec_transformers(\n",
    "                name=\"vector\", # This is the name you will need to access the vectors of the objects in your collection\n",
    "                source_properties=['place', 'state', 'description', 'best_season_to_visit', 'attractions', 'budget'], # which properties should be used to generate a vector, they will be appended to each other when vectorizing\n",
    "                vectorize_collection_name = False, # This tells the client to not vectorize the collection name. \n",
    "                                                   # If True, it will be appended at the beginning of the text to be vectorized\n",
    "                inference_url=\"http://127.0.0.1:5000\", # Since we are using an API based vectorizer, you need to pass the URL used to make the calls \n",
    "                                                       # This was setup in our Flask application\n",
    "            )]"
   ]
  },
  {
   "cell_type": "markdown",
   "metadata": {},
   "source": [
    "<a id='2-3'></a>\n",
    "### 2.3 The Properties\n",
    "\n",
    "In a collection, the features of each data point are called Properties."
   ]
  },
  {
   "cell_type": "code",
   "execution_count": 6,
   "metadata": {
    "tags": []
   },
   "outputs": [],
   "source": [
    "# Delete the collection in case it exists\n",
    "if client.collections.exists(\"example_collection\"):\n",
    "    client.collections.delete(\"example_collection\")\n",
    "    "
   ]
  },
  {
   "cell_type": "code",
   "execution_count": 8,
   "metadata": {
    "tags": []
   },
   "outputs": [],
   "source": [
    "if not client.collections.exists('example_collection'): # Creates only if the collection does not exist\n",
    "    collection = client.collections.create(\n",
    "            name='example_collection',\n",
    "            vectorizer_config=vectorizer_config, # The config we defined before,\n",
    "            reranker_config=Configure.Reranker.transformers(), # The reranker config\n",
    "\n",
    "            properties=[  # Define properties\n",
    "            Property(name=\"place\",vectorize_property_name=True,data_type= DataType.TEXT),\n",
    "            Property(name=\"state\",vectorize_property_name=True, data_type=DataType.TEXT),\n",
    "            Property(name=\"description\",vectorize_property_name=True, data_type=DataType.TEXT),\n",
    "            Property(name=\"best_season_to_visit\",vectorize_property_name=True, data_type=DataType.TEXT),\n",
    "            Property(name=\"attractions\",vectorize_property_name=True, data_type=DataType.TEXT),\n",
    "            Property(name=\"budget\",vectorize_property_name=True, data_type=DataType.TEXT),\n",
    "            Property(name=\"user_ratings\", data_type=DataType.NUMBER),\n",
    "            Property(name=\"last_updated\", data_type=DataType.DATE),\n",
    "\n",
    "        ]\n",
    "        )\n",
    "else:\n",
    "    collection = client.collections.get(\"example_collection\")"
   ]
  },
  {
   "cell_type": "markdown",
   "metadata": {},
   "source": [
    "Running it creates a collection and returns the collection. Printing it shows the collection configuration."
   ]
  },
  {
   "cell_type": "code",
   "execution_count": 9,
   "metadata": {
    "tags": []
   },
   "outputs": [
    {
     "name": "stdout",
     "output_type": "stream",
     "text": [
      "<weaviate.Collection config={\n",
      "  \"name\": \"Example_collection\",\n",
      "  \"description\": null,\n",
      "  \"generative_config\": null,\n",
      "  \"inverted_index_config\": {\n",
      "    \"bm25\": {\n",
      "      \"b\": 0.75,\n",
      "      \"k1\": 1.2\n",
      "    },\n",
      "    \"cleanup_interval_seconds\": 60,\n",
      "    \"index_null_state\": false,\n",
      "    \"index_property_length\": false,\n",
      "    \"index_timestamps\": false,\n",
      "    \"stopwords\": {\n",
      "      \"preset\": \"en\",\n",
      "      \"additions\": null,\n",
      "      \"removals\": null\n",
      "    }\n",
      "  },\n",
      "  \"multi_tenancy_config\": {\n",
      "    \"enabled\": false,\n",
      "    \"auto_tenant_creation\": false,\n",
      "    \"auto_tenant_activation\": false\n",
      "  },\n",
      "  \"properties\": [\n",
      "    {\n",
      "      \"name\": \"place\",\n",
      "      \"description\": null,\n",
      "      \"data_type\": \"text\",\n",
      "      \"index_filterable\": true,\n",
      "      \"index_range_filters\": false,\n",
      "      \"index_searchable\": true,\n",
      "      \"nested_properties\": null,\n",
      "      \"tokenization\": \"word\",\n",
      "      \"vectorizer_config\": null,\n",
      "      \"vectorizer\": null,\n",
      "      \"vectorizer_configs\": {\n",
      "        \"text2vec-transformers\": {\n",
      "          \"skip\": false,\n",
      "          \"vectorize_property_name\": true\n",
      "        }\n",
      "      }\n",
      "    },\n",
      "    {\n",
      "      \"name\": \"state\",\n",
      "      \"description\": null,\n",
      "      \"data_type\": \"text\",\n",
      "      \"index_filterable\": true,\n",
      "      \"index_range_filters\": false,\n",
      "      \"index_searchable\": true,\n",
      "      \"nested_properties\": null,\n",
      "      \"tokenization\": \"word\",\n",
      "      \"vectorizer_config\": null,\n",
      "      \"vectorizer\": null,\n",
      "      \"vectorizer_configs\": {\n",
      "        \"text2vec-transformers\": {\n",
      "          \"skip\": false,\n",
      "          \"vectorize_property_name\": true\n",
      "        }\n",
      "      }\n",
      "    },\n",
      "    {\n",
      "      \"name\": \"description\",\n",
      "      \"description\": null,\n",
      "      \"data_type\": \"text\",\n",
      "      \"index_filterable\": true,\n",
      "      \"index_range_filters\": false,\n",
      "      \"index_searchable\": true,\n",
      "      \"nested_properties\": null,\n",
      "      \"tokenization\": \"word\",\n",
      "      \"vectorizer_config\": null,\n",
      "      \"vectorizer\": null,\n",
      "      \"vectorizer_configs\": {\n",
      "        \"text2vec-transformers\": {\n",
      "          \"skip\": false,\n",
      "          \"vectorize_property_name\": true\n",
      "        }\n",
      "      }\n",
      "    },\n",
      "    {\n",
      "      \"name\": \"best_season_to_visit\",\n",
      "      \"description\": null,\n",
      "      \"data_type\": \"text\",\n",
      "      \"index_filterable\": true,\n",
      "      \"index_range_filters\": false,\n",
      "      \"index_searchable\": true,\n",
      "      \"nested_properties\": null,\n",
      "      \"tokenization\": \"word\",\n",
      "      \"vectorizer_config\": null,\n",
      "      \"vectorizer\": null,\n",
      "      \"vectorizer_configs\": {\n",
      "        \"text2vec-transformers\": {\n",
      "          \"skip\": false,\n",
      "          \"vectorize_property_name\": true\n",
      "        }\n",
      "      }\n",
      "    },\n",
      "    {\n",
      "      \"name\": \"attractions\",\n",
      "      \"description\": null,\n",
      "      \"data_type\": \"text\",\n",
      "      \"index_filterable\": true,\n",
      "      \"index_range_filters\": false,\n",
      "      \"index_searchable\": true,\n",
      "      \"nested_properties\": null,\n",
      "      \"tokenization\": \"word\",\n",
      "      \"vectorizer_config\": null,\n",
      "      \"vectorizer\": null,\n",
      "      \"vectorizer_configs\": {\n",
      "        \"text2vec-transformers\": {\n",
      "          \"skip\": false,\n",
      "          \"vectorize_property_name\": true\n",
      "        }\n",
      "      }\n",
      "    },\n",
      "    {\n",
      "      \"name\": \"budget\",\n",
      "      \"description\": null,\n",
      "      \"data_type\": \"text\",\n",
      "      \"index_filterable\": true,\n",
      "      \"index_range_filters\": false,\n",
      "      \"index_searchable\": true,\n",
      "      \"nested_properties\": null,\n",
      "      \"tokenization\": \"word\",\n",
      "      \"vectorizer_config\": null,\n",
      "      \"vectorizer\": null,\n",
      "      \"vectorizer_configs\": {\n",
      "        \"text2vec-transformers\": {\n",
      "          \"skip\": false,\n",
      "          \"vectorize_property_name\": true\n",
      "        }\n",
      "      }\n",
      "    },\n",
      "    {\n",
      "      \"name\": \"user_ratings\",\n",
      "      \"description\": null,\n",
      "      \"data_type\": \"number\",\n",
      "      \"index_filterable\": true,\n",
      "      \"index_range_filters\": false,\n",
      "      \"index_searchable\": false,\n",
      "      \"nested_properties\": null,\n",
      "      \"tokenization\": null,\n",
      "      \"vectorizer_config\": null,\n",
      "      \"vectorizer\": null,\n",
      "      \"vectorizer_configs\": {\n",
      "        \"text2vec-transformers\": {\n",
      "          \"skip\": false,\n",
      "          \"vectorize_property_name\": true\n",
      "        }\n",
      "      }\n",
      "    },\n",
      "    {\n",
      "      \"name\": \"last_updated\",\n",
      "      \"description\": null,\n",
      "      \"data_type\": \"date\",\n",
      "      \"index_filterable\": true,\n",
      "      \"index_range_filters\": false,\n",
      "      \"index_searchable\": false,\n",
      "      \"nested_properties\": null,\n",
      "      \"tokenization\": null,\n",
      "      \"vectorizer_config\": null,\n",
      "      \"vectorizer\": null,\n",
      "      \"vectorizer_configs\": {\n",
      "        \"text2vec-transformers\": {\n",
      "          \"skip\": false,\n",
      "          \"vectorize_property_name\": true\n",
      "        }\n",
      "      }\n",
      "    }\n",
      "  ],\n",
      "  \"references\": [],\n",
      "  \"replication_config\": {\n",
      "    \"factor\": 1,\n",
      "    \"async_enabled\": false,\n",
      "    \"deletion_strategy\": \"NoAutomatedResolution\"\n",
      "  },\n",
      "  \"reranker_config\": {\n",
      "    \"model\": {},\n",
      "    \"reranker\": \"reranker-transformers\"\n",
      "  },\n",
      "  \"sharding_config\": {\n",
      "    \"virtual_per_physical\": 128,\n",
      "    \"desired_count\": 1,\n",
      "    \"actual_count\": 1,\n",
      "    \"desired_virtual_count\": 128,\n",
      "    \"actual_virtual_count\": 128,\n",
      "    \"key\": \"_id\",\n",
      "    \"strategy\": \"hash\",\n",
      "    \"function\": \"murmur3\"\n",
      "  },\n",
      "  \"vector_index_config\": null,\n",
      "  \"vector_index_type\": null,\n",
      "  \"vectorizer_config\": null,\n",
      "  \"vectorizer\": null,\n",
      "  \"vector_config\": {\n",
      "    \"vector\": {\n",
      "      \"vectorizer\": {\n",
      "        \"vectorizer\": \"text2vec-transformers\",\n",
      "        \"model\": {\n",
      "          \"inferenceUrl\": \"http://127.0.0.1:5000\",\n",
      "          \"poolingStrategy\": \"masked_mean\",\n",
      "          \"vectorizeClassName\": false\n",
      "        },\n",
      "        \"source_properties\": [\n",
      "          \"place\",\n",
      "          \"state\",\n",
      "          \"description\",\n",
      "          \"best_season_to_visit\",\n",
      "          \"attractions\",\n",
      "          \"budget\"\n",
      "        ]\n",
      "      },\n",
      "      \"vector_index_config\": {\n",
      "        \"multi_vector\": null,\n",
      "        \"quantizer\": null,\n",
      "        \"cleanup_interval_seconds\": 300,\n",
      "        \"distance_metric\": \"cosine\",\n",
      "        \"dynamic_ef_min\": 100,\n",
      "        \"dynamic_ef_max\": 500,\n",
      "        \"dynamic_ef_factor\": 8,\n",
      "        \"ef\": -1,\n",
      "        \"ef_construction\": 128,\n",
      "        \"filter_strategy\": \"sweeping\",\n",
      "        \"flat_search_cutoff\": 40000,\n",
      "        \"max_connections\": 32,\n",
      "        \"skip\": false,\n",
      "        \"vector_cache_max_objects\": 1000000000000\n",
      "      }\n",
      "    }\n",
      "  }\n",
      "}>\n"
     ]
    }
   ],
   "source": [
    "print(collection)"
   ]
  },
  {
   "cell_type": "markdown",
   "metadata": {},
   "source": [
    "If you try to create a collection that already exists, an exception will be thrown:"
   ]
  },
  {
   "cell_type": "code",
   "execution_count": 10,
   "metadata": {
    "tags": []
   },
   "outputs": [
    {
     "name": "stdout",
     "output_type": "stream",
     "text": [
      "Collection may not have been created properly.! Unexpected status code: 422, with response body: {'error': [{'message': 'class name Example_collection already exists'}]}.\n"
     ]
    }
   ],
   "source": [
    "try:\n",
    "    collection = client.collections.create(\n",
    "        name='example_collection',\n",
    "\n",
    "        vectorizer_config=vectorizer_config, # The config we defined before,\n",
    "    \n",
    "        properties=[  # Define properties\n",
    "        Property(name=\"place\",vectorize_property_name=True,data_type= DataType.TEXT),\n",
    "        Property(name=\"state\",vectorize_property_name=True, data_type=DataType.TEXT),\n",
    "        Property(name=\"description\",vectorize_property_name=True, data_type=DataType.TEXT),\n",
    "        Property(name=\"best_season_to_visit\",vectorize_property_name=True, data_type=DataType.TEXT),\n",
    "        Property(name=\"attractions\",vectorize_property_name=True, data_type=DataType.TEXT),\n",
    "        Property(name=\"budget\",vectorize_property_name=True, data_type=DataType.TEXT),\n",
    "        Property(name=\"user_ratings\", data_type=DataType.NUMBER),\n",
    "        Property(name=\"last_updated\", data_type=DataType.DATE),\n",
    "                 \n",
    "    ]\n",
    "    )\n",
    "except Exception as e:\n",
    "    print(e)"
   ]
  },
  {
   "cell_type": "markdown",
   "metadata": {},
   "source": [
    "You can also retrieve all the collections saved:"
   ]
  },
  {
   "cell_type": "code",
   "execution_count": 11,
   "metadata": {
    "tags": []
   },
   "outputs": [
    {
     "data": {
      "text/plain": [
       "dict_keys(['Example_collection'])"
      ]
     },
     "execution_count": 11,
     "metadata": {},
     "output_type": "execute_result"
    }
   ],
   "source": [
    "client.collections.list_all().keys()"
   ]
  },
  {
   "cell_type": "markdown",
   "metadata": {},
   "source": [
    "The result of .list_all() is a dictionary with the collections names as keys and their properties."
   ]
  },
  {
   "cell_type": "markdown",
   "metadata": {},
   "source": [
    "<a id='2-4'></a>\n",
    "### 2.4 Adding elements into a Collection\n",
    "\n",
    "Once you create a collection, you get an empty collection. Now you need to add elements to it. When you add an element, two important steps happen in the background:\n",
    "\n",
    "1. The information is vectorized (as configured in the collection definition)\n",
    "2. The HNSW index is updated to optimize search (as you saw in the lectures). This occurs in the backend and you don't see it, but this can make the process take a bit of time\n",
    "\n",
    "Adding elements is completed using a `collection.batch`, which adds additional useful features. For example, it will let you decide how many objects to send in each batch, handle errors during import, and improve performance by reducing the number of individual network calls. In this example, one element is added at a time, with only a single concurrent request at a time.\n",
    "\n",
    "You can add a uuid (unique identifier id) to each element you add, so this prevents duplicate entries in your database. \n",
    "\n",
    "Let's see in practice!"
   ]
  },
  {
   "cell_type": "code",
   "execution_count": 13,
   "metadata": {
    "tags": []
   },
   "outputs": [
    {
     "name": "stderr",
     "output_type": "stream",
     "text": [
      "100%|██████████| 20/20 [00:00<00:00, 52.37it/s]\n"
     ]
    }
   ],
   "source": [
    "# Set up a batch process with specified fixed size and concurrency\n",
    "with collection.batch.fixed_size(batch_size=1, concurrent_requests=1) as batch:\n",
    "    # Iterate over a subset of the dataset\n",
    "    for document in tqdm(data): # tqdm is a library to show progress bars\n",
    "            # Generate a UUID based on the article_content text for unique identification\n",
    "            uuid = generate_uuid5(document)\n",
    "\n",
    "            # Add the object to the batch with properties and UUID. \n",
    "            # properties expects a dictionary with the keys being the properties.\n",
    "            batch.add_object(\n",
    "                properties=document,\n",
    "                uuid=uuid,\n",
    "            )"
   ]
  },
  {
   "cell_type": "markdown",
   "metadata": {},
   "source": [
    "Awesome! Now you have a collection with vectors! You can check the number of vectors using `len(collection)`:"
   ]
  },
  {
   "cell_type": "code",
   "execution_count": 14,
   "metadata": {
    "tags": []
   },
   "outputs": [
    {
     "data": {
      "text/plain": [
       "20"
      ]
     },
     "execution_count": 14,
     "metadata": {},
     "output_type": "execute_result"
    }
   ],
   "source": [
    "len(collection)"
   ]
  },
  {
   "cell_type": "markdown",
   "metadata": {},
   "source": [
    "<a id='3'></a>\n",
    "## 3 - Querying on a collection\n",
    "\n",
    "In this section, you will learn how to query on a collection. You can:\n",
    "\n",
    "- Query on metadata\n",
    "- Query with semantic search\n",
    "- Query with BM25\n",
    "- Query with filtering\n",
    "\n",
    "Let's see some examples."
   ]
  },
  {
   "cell_type": "markdown",
   "metadata": {},
   "source": [
    "<a id='3-1'></a>\n",
    "### 3.1 Filters\n",
    "\n",
    "Before diving into querying, let's understand the Filters. Filters are a way of restricting your search on some criteria. They are very flexible. You usually pass them as an argument in a query. Let's have an example to illustrate it."
   ]
  },
  {
   "cell_type": "code",
   "execution_count": 15,
   "metadata": {
    "tags": []
   },
   "outputs": [],
   "source": [
    "# Here we are fetching 2 objects with a filter by property, filtering by 'user_ratings, only objects with value greater or equal to 3.5'\n",
    "result = collection.query.fetch_objects(limit = 2, filters = Filter.by_property('user_ratings').greater_or_equal(3.5))"
   ]
  },
  {
   "cell_type": "markdown",
   "metadata": {},
   "source": [
    "The result is an object called QueryReturn:"
   ]
  },
  {
   "cell_type": "code",
   "execution_count": 16,
   "metadata": {
    "tags": []
   },
   "outputs": [
    {
     "data": {
      "text/plain": [
       "QueryReturn(objects=[Object(uuid=_WeaviateUUIDInt('c99763a3-46a0-59d4-831b-af9bc290260c'), metadata=MetadataReturn(creation_time=None, last_update_time=None, distance=None, certainty=None, score=None, explain_score=None, is_consistent=None, rerank_score=None), properties={'state': 'California', 'last_updated': datetime.datetime(2023, 10, 1, 0, 0, tzinfo=datetime.timezone.utc), 'best_season_to_visit': 'Spring', 'budget': 'Moderate', 'place': 'Hollywood', 'description': 'Famous district in Los Angeles known as the entertainment capital of the world.', 'attractions': 'Walk of Fame, Hollywood Sign', 'user_ratings': 4.2}, references=None, vector={}, collection='Example_collection'), Object(uuid=_WeaviateUUIDInt('9e5ba590-8c75-5b53-9b0a-8a9c161004ad'), metadata=MetadataReturn(creation_time=None, last_update_time=None, distance=None, certainty=None, score=None, explain_score=None, is_consistent=None, rerank_score=None), properties={'state': 'New York', 'last_updated': datetime.datetime(2023, 10, 1, 0, 0, tzinfo=datetime.timezone.utc), 'best_season_to_visit': 'Winter', 'budget': 'Low', 'place': 'Times Square', 'description': 'Bustling pedestrian intersection and major commercial hub.', 'attractions': 'Broadway Theaters, New Year’s Eve Ball Drop', 'user_ratings': 4.3}, references=None, vector={}, collection='Example_collection')])"
      ]
     },
     "execution_count": 16,
     "metadata": {},
     "output_type": "execute_result"
    }
   ],
   "source": [
    "result"
   ]
  },
  {
   "cell_type": "markdown",
   "metadata": {},
   "source": [
    "You can access its objects by `result.objects`"
   ]
  },
  {
   "cell_type": "code",
   "execution_count": 17,
   "metadata": {
    "tags": []
   },
   "outputs": [
    {
     "data": {
      "text/plain": [
       "[Object(uuid=_WeaviateUUIDInt('c99763a3-46a0-59d4-831b-af9bc290260c'), metadata=MetadataReturn(creation_time=None, last_update_time=None, distance=None, certainty=None, score=None, explain_score=None, is_consistent=None, rerank_score=None), properties={'state': 'California', 'last_updated': datetime.datetime(2023, 10, 1, 0, 0, tzinfo=datetime.timezone.utc), 'best_season_to_visit': 'Spring', 'budget': 'Moderate', 'place': 'Hollywood', 'description': 'Famous district in Los Angeles known as the entertainment capital of the world.', 'attractions': 'Walk of Fame, Hollywood Sign', 'user_ratings': 4.2}, references=None, vector={}, collection='Example_collection'),\n",
       " Object(uuid=_WeaviateUUIDInt('9e5ba590-8c75-5b53-9b0a-8a9c161004ad'), metadata=MetadataReturn(creation_time=None, last_update_time=None, distance=None, certainty=None, score=None, explain_score=None, is_consistent=None, rerank_score=None), properties={'state': 'New York', 'last_updated': datetime.datetime(2023, 10, 1, 0, 0, tzinfo=datetime.timezone.utc), 'best_season_to_visit': 'Winter', 'budget': 'Low', 'place': 'Times Square', 'description': 'Bustling pedestrian intersection and major commercial hub.', 'attractions': 'Broadway Theaters, New Year’s Eve Ball Drop', 'user_ratings': 4.3}, references=None, vector={}, collection='Example_collection')]"
      ]
     },
     "execution_count": 17,
     "metadata": {},
     "output_type": "execute_result"
    }
   ],
   "source": [
    "result.objects"
   ]
  },
  {
   "cell_type": "markdown",
   "metadata": {},
   "source": [
    "So, each element in the list is an element of the collection. "
   ]
  },
  {
   "cell_type": "code",
   "execution_count": 18,
   "metadata": {
    "tags": []
   },
   "outputs": [],
   "source": [
    "obj = result.objects[0]"
   ]
  },
  {
   "cell_type": "markdown",
   "metadata": {},
   "source": [
    "You can check their properties, which is a dictionary."
   ]
  },
  {
   "cell_type": "code",
   "execution_count": 19,
   "metadata": {
    "tags": []
   },
   "outputs": [
    {
     "data": {
      "text/plain": [
       "{'state': 'California',\n",
       " 'last_updated': datetime.datetime(2023, 10, 1, 0, 0, tzinfo=datetime.timezone.utc),\n",
       " 'best_season_to_visit': 'Spring',\n",
       " 'budget': 'Moderate',\n",
       " 'place': 'Hollywood',\n",
       " 'description': 'Famous district in Los Angeles known as the entertainment capital of the world.',\n",
       " 'attractions': 'Walk of Fame, Hollywood Sign',\n",
       " 'user_ratings': 4.2}"
      ]
     },
     "execution_count": 19,
     "metadata": {},
     "output_type": "execute_result"
    }
   ],
   "source": [
    "obj.properties"
   ]
  },
  {
   "cell_type": "markdown",
   "metadata": {},
   "source": [
    "In this course, the way of filtering is `.by_property`. You will see more Filtering examples as other query methods are explained."
   ]
  },
  {
   "cell_type": "markdown",
   "metadata": {},
   "source": [
    "<a id='3-2'></a>\n",
    "### 3.2 Semantic Search\n",
    "\n",
    "You can use semantic search to query over your collection. This uses the vectors to compute distances between them and return the closest ones. You must pass a query, which will be vectorized and then compared over the elements on your collection. The method is `.near_text`."
   ]
  },
  {
   "cell_type": "code",
   "execution_count": 20,
   "metadata": {
    "tags": []
   },
   "outputs": [],
   "source": [
    "result = collection.query.near_text(query = 'I want suggestions to travel during Winter. I want cheap places.', limit = 4)"
   ]
  },
  {
   "cell_type": "code",
   "execution_count": 21,
   "metadata": {
    "tags": []
   },
   "outputs": [
    {
     "name": "stdout",
     "output_type": "stream",
     "text": [
      "state: New York\n",
      "place: Times Square\n",
      "best_season_to_visit: Winter\n",
      "budget: Low\n",
      "last_updated: 2023-10-01 00:00:00+00:00\n",
      "description: Bustling pedestrian intersection and major commercial hub.\n",
      "attractions: Broadway Theaters, New Year’s Eve Ball Drop\n",
      "user_ratings: 4.3\n",
      "\n",
      "state: Montana\n",
      "last_updated: 2023-10-01 00:00:00+00:00\n",
      "best_season_to_visit: Summer\n",
      "budget: Moderate\n",
      "place: Glacier National Park\n",
      "description: Park known for its rugged mountains and alpine forests.\n",
      "attractions: Going-to-the-Sun Road, Grinnell Glacier\n",
      "user_ratings: 4.8\n",
      "\n",
      "state: Utah\n",
      "last_updated: 2023-10-01 00:00:00+00:00\n",
      "best_season_to_visit: Spring, Fall\n",
      "budget: Moderate\n",
      "place: Zion National Park\n",
      "description: Beautiful park known for its impressive canyons and towering cliffs.\n",
      "attractions: The Narrows, Angels Landing\n",
      "user_ratings: 4.7\n",
      "\n",
      "state: Massachusetts\n",
      "last_updated: 2023-10-01 00:00:00+00:00\n",
      "best_season_to_visit: Summer\n",
      "budget: Moderate\n",
      "place: Cape Cod\n",
      "description: Popular tourist destination known for its beaches and quaint towns.\n",
      "attractions: Nantucket Island, Cape Cod National Seashore\n",
      "user_ratings: 4.5\n",
      "\n"
     ]
    }
   ],
   "source": [
    "# Let's iterate over the result objects and return their properties\n",
    "for obj in result.objects:\n",
    "    print_object_properties(obj.properties)"
   ]
  },
  {
   "cell_type": "markdown",
   "metadata": {},
   "source": [
    "You can also already query over the elements with `budget = Low`:"
   ]
  },
  {
   "cell_type": "code",
   "execution_count": 22,
   "metadata": {
    "tags": []
   },
   "outputs": [],
   "source": [
    "result = collection.query.near_text(query = 'I want suggestions to travel during Winter. I want cheap places.', \n",
    "                                    filters = Filter.by_property('budget').equal('Low'),\n",
    "                                    limit = 4)"
   ]
  },
  {
   "cell_type": "code",
   "execution_count": 24,
   "metadata": {
    "tags": []
   },
   "outputs": [
    {
     "name": "stdout",
     "output_type": "stream",
     "text": [
      "state: New York\n",
      "place: Times Square\n",
      "best_season_to_visit: Winter\n",
      "budget: Low\n",
      "last_updated: 2023-10-01 00:00:00+00:00\n",
      "description: Bustling pedestrian intersection and major commercial hub.\n",
      "attractions: Broadway Theaters, New Year’s Eve Ball Drop\n",
      "user_ratings: 4.3\n",
      "\n",
      "state: California\n",
      "last_updated: 2023-10-01 00:00:00+00:00\n",
      "best_season_to_visit: Spring, Summer\n",
      "budget: Low\n",
      "place: Alcatraz Island\n",
      "description: Famed former prison island located in San Francisco Bay.\n",
      "attractions: Cellhouse Tour, Alcatraz Lighthouse\n",
      "user_ratings: 4.4\n",
      "\n",
      "state: Pennsylvania\n",
      "last_updated: 2023-10-01 00:00:00+00:00\n",
      "best_season_to_visit: Spring, Fall\n",
      "budget: Low\n",
      "place: Gettysburg National Military Park\n",
      "description: Historic site of a major Civil War battle.\n",
      "attractions: Gettysburg Museum, Battlefield Tours\n",
      "user_ratings: 4.6\n",
      "\n",
      "state: New York\n",
      "last_updated: 2023-10-01 00:00:00+00:00\n",
      "best_season_to_visit: Spring, Fall\n",
      "budget: Low\n",
      "place: Statue of Liberty\n",
      "description: Iconic symbol of freedom and democracy in the United States.\n",
      "attractions: Ellis Island, Liberty Island Museum\n",
      "user_ratings: 4.5\n",
      "\n"
     ]
    }
   ],
   "source": [
    "# Let's iterate over the result objects and return their properties\n",
    "for obj in result.objects:\n",
    "    print_object_properties(obj.properties)"
   ]
  },
  {
   "cell_type": "markdown",
   "metadata": {},
   "source": [
    "You can also pass a list on the possible values on a filter, by using `.contains_any`:"
   ]
  },
  {
   "cell_type": "code",
   "execution_count": 25,
   "metadata": {
    "tags": []
   },
   "outputs": [],
   "source": [
    "result = collection.query.near_text(query = 'I want suggestions to travel during Winter. I want cheap places.', \n",
    "                                    filters = Filter.by_property('budget').contains_any(['Low','Moderate']),\n",
    "                                    limit = 4)"
   ]
  },
  {
   "cell_type": "code",
   "execution_count": 26,
   "metadata": {
    "tags": []
   },
   "outputs": [
    {
     "name": "stdout",
     "output_type": "stream",
     "text": [
      "state: New York\n",
      "last_updated: 2023-10-01 00:00:00+00:00\n",
      "best_season_to_visit: Winter\n",
      "budget: Low\n",
      "place: Times Square\n",
      "description: Bustling pedestrian intersection and major commercial hub.\n",
      "attractions: Broadway Theaters, New Year’s Eve Ball Drop\n",
      "user_ratings: 4.3\n",
      "\n",
      "state: Montana\n",
      "place: Glacier National Park\n",
      "best_season_to_visit: Summer\n",
      "budget: Moderate\n",
      "last_updated: 2023-10-01 00:00:00+00:00\n",
      "description: Park known for its rugged mountains and alpine forests.\n",
      "attractions: Going-to-the-Sun Road, Grinnell Glacier\n",
      "user_ratings: 4.8\n",
      "\n",
      "state: Utah\n",
      "last_updated: 2023-10-01 00:00:00+00:00\n",
      "best_season_to_visit: Spring, Fall\n",
      "budget: Moderate\n",
      "place: Zion National Park\n",
      "description: Beautiful park known for its impressive canyons and towering cliffs.\n",
      "attractions: The Narrows, Angels Landing\n",
      "user_ratings: 4.7\n",
      "\n",
      "state: Massachusetts\n",
      "last_updated: 2023-10-01 00:00:00+00:00\n",
      "best_season_to_visit: Summer\n",
      "budget: Moderate\n",
      "place: Cape Cod\n",
      "description: Popular tourist destination known for its beaches and quaint towns.\n",
      "attractions: Nantucket Island, Cape Cod National Seashore\n",
      "user_ratings: 4.5\n",
      "\n"
     ]
    }
   ],
   "source": [
    "# Let's iterate over the result objects and return their properties\n",
    "for obj in result.objects:\n",
    "    print_object_properties(obj.properties)"
   ]
  },
  {
   "cell_type": "markdown",
   "metadata": {},
   "source": [
    "<a id='3-3'></a>\n",
    "### 3.3 BM25 search\n",
    "\n",
    "To perform BM25 search, just run `colections.query.bm25`, the usual parameters `query`, `limit` and `filters` can be passed."
   ]
  },
  {
   "cell_type": "code",
   "execution_count": 27,
   "metadata": {
    "tags": []
   },
   "outputs": [],
   "source": [
    "result = collection.query.bm25(query = 'I want suggestions to travel during Winter. I want cheap places.', \n",
    "                                    filters = Filter.by_property('budget').contains_any(['Low','Moderate']),\n",
    "                                    limit = 4)"
   ]
  },
  {
   "cell_type": "code",
   "execution_count": 28,
   "metadata": {
    "tags": []
   },
   "outputs": [
    {
     "name": "stdout",
     "output_type": "stream",
     "text": [
      "state: New York\n",
      "place: Times Square\n",
      "best_season_to_visit: Winter\n",
      "budget: Low\n",
      "last_updated: 2023-10-01 00:00:00+00:00\n",
      "description: Bustling pedestrian intersection and major commercial hub.\n",
      "attractions: Broadway Theaters, New Year’s Eve Ball Drop\n",
      "user_ratings: 4.3\n",
      "\n"
     ]
    }
   ],
   "source": [
    "# Let's iterate over the result objects and return their properties\n",
    "for obj in result.objects:\n",
    "    print_object_properties(obj.properties)"
   ]
  },
  {
   "cell_type": "markdown",
   "metadata": {},
   "source": [
    "<a id='3-4'></a>\n",
    "### 3.4 Hybrid Search\n",
    "\n",
    "This search is the RRF search you saw in the lectures. Apart from the standard parameters for querying, you can pass an `alpha` to control how much of BM25 you want in to mix in."
   ]
  },
  {
   "cell_type": "code",
   "execution_count": 29,
   "metadata": {
    "tags": []
   },
   "outputs": [],
   "source": [
    "result = collection.query.hybrid(query = 'I want suggestions to travel during Winter. I want cheap places.', \n",
    "                                    filters = Filter.by_property('budget').contains_any(['Low','Moderate']),\n",
    "                                    alpha = 0.3,\n",
    "                                    limit = 4)"
   ]
  },
  {
   "cell_type": "code",
   "execution_count": 30,
   "metadata": {
    "tags": []
   },
   "outputs": [
    {
     "name": "stdout",
     "output_type": "stream",
     "text": [
      "state: New York\n",
      "place: Times Square\n",
      "best_season_to_visit: Winter\n",
      "budget: Low\n",
      "last_updated: 2023-10-01 00:00:00+00:00\n",
      "description: Bustling pedestrian intersection and major commercial hub.\n",
      "attractions: Broadway Theaters, New Year’s Eve Ball Drop\n",
      "user_ratings: 4.3\n",
      "\n",
      "state: Montana\n",
      "last_updated: 2023-10-01 00:00:00+00:00\n",
      "best_season_to_visit: Summer\n",
      "budget: Moderate\n",
      "place: Glacier National Park\n",
      "description: Park known for its rugged mountains and alpine forests.\n",
      "attractions: Going-to-the-Sun Road, Grinnell Glacier\n",
      "user_ratings: 4.8\n",
      "\n",
      "state: Utah\n",
      "last_updated: 2023-10-01 00:00:00+00:00\n",
      "best_season_to_visit: Spring, Fall\n",
      "budget: Moderate\n",
      "place: Zion National Park\n",
      "description: Beautiful park known for its impressive canyons and towering cliffs.\n",
      "attractions: The Narrows, Angels Landing\n",
      "user_ratings: 4.7\n",
      "\n",
      "state: Massachusetts\n",
      "last_updated: 2023-10-01 00:00:00+00:00\n",
      "best_season_to_visit: Summer\n",
      "budget: Moderate\n",
      "place: Cape Cod\n",
      "description: Popular tourist destination known for its beaches and quaint towns.\n",
      "attractions: Nantucket Island, Cape Cod National Seashore\n",
      "user_ratings: 4.5\n",
      "\n"
     ]
    }
   ],
   "source": [
    "# Let's iterate over the result objects and return their properties\n",
    "for obj in result.objects:\n",
    "    print_object_properties(obj.properties)"
   ]
  },
  {
   "cell_type": "markdown",
   "metadata": {},
   "source": [
    "<a id='3-5'></a>\n",
    "### 3.5 Reranking\n",
    "\n",
    "You can easily perform reranking with Weaviate by passing a new argument to a search. Let's try with semantic search!"
   ]
  },
  {
   "cell_type": "code",
   "execution_count": 31,
   "metadata": {
    "tags": []
   },
   "outputs": [],
   "source": [
    "from weaviate.classes.query import Rerank\n",
    "\n",
    "response = collection.query.near_text(\n",
    "    query=\"'I want suggestions to travel during Winter. I want cheap and fun places.'\",  \n",
    "    limit=5,\n",
    "    rerank=Rerank(\n",
    "        prop=\"attractions\",                   # The property to rerank on\n",
    "        query=\"Fun places\"  # If not provided, the original query will be used\n",
    "    )\n",
    ")\n"
   ]
  },
  {
   "cell_type": "code",
   "execution_count": 32,
   "metadata": {
    "tags": []
   },
   "outputs": [
    {
     "name": "stdout",
     "output_type": "stream",
     "text": [
      "state: New York\n",
      "place: Times Square\n",
      "best_season_to_visit: Winter\n",
      "budget: Low\n",
      "last_updated: 2023-10-01 00:00:00+00:00\n",
      "description: Bustling pedestrian intersection and major commercial hub.\n",
      "attractions: Broadway Theaters, New Year’s Eve Ball Drop\n",
      "user_ratings: 4.3\n",
      "\n",
      "state: Montana\n",
      "last_updated: 2023-10-01 00:00:00+00:00\n",
      "best_season_to_visit: Summer\n",
      "budget: Moderate\n",
      "place: Glacier National Park\n",
      "description: Park known for its rugged mountains and alpine forests.\n",
      "attractions: Going-to-the-Sun Road, Grinnell Glacier\n",
      "user_ratings: 4.8\n",
      "\n",
      "state: Utah\n",
      "last_updated: 2023-10-01 00:00:00+00:00\n",
      "best_season_to_visit: Spring, Fall\n",
      "budget: Moderate\n",
      "place: Zion National Park\n",
      "description: Beautiful park known for its impressive canyons and towering cliffs.\n",
      "attractions: The Narrows, Angels Landing\n",
      "user_ratings: 4.7\n",
      "\n",
      "state: Massachusetts\n",
      "last_updated: 2023-10-01 00:00:00+00:00\n",
      "best_season_to_visit: Summer\n",
      "budget: Moderate\n",
      "place: Cape Cod\n",
      "description: Popular tourist destination known for its beaches and quaint towns.\n",
      "attractions: Nantucket Island, Cape Cod National Seashore\n",
      "user_ratings: 4.5\n",
      "\n"
     ]
    }
   ],
   "source": [
    "# Let's iterate over the result objects and return their properties\n",
    "for obj in result.objects:\n",
    "    print_object_properties(obj.properties)"
   ]
  },
  {
   "cell_type": "code",
   "execution_count": null,
   "metadata": {
    "tags": []
   },
   "outputs": [],
   "source": [
    "# Don't forget to close the client!\n",
    "client.close()"
   ]
  },
  {
   "cell_type": "markdown",
   "metadata": {},
   "source": [
    "Keep it up! You just finished the basics of the Weaviate API you'll use in this course!"
   ]
  }
 ],
 "metadata": {
  "kernelspec": {
   "display_name": "Python 3 (ipykernel)",
   "language": "python",
   "name": "python3"
  },
  "language_info": {
   "codemirror_mode": {
    "name": "ipython",
    "version": 3
   },
   "file_extension": ".py",
   "mimetype": "text/x-python",
   "name": "python",
   "nbconvert_exporter": "python",
   "pygments_lexer": "ipython3",
   "version": "3.10.12"
  }
 },
 "nbformat": 4,
 "nbformat_minor": 4
}
