{
 "cells": [
  {
   "cell_type": "markdown",
   "metadata": {
    "tags": []
   },
   "source": [
    "## Module 3 Assignment - Building RAG systems with a Vector Database\n",
    "\n",
    "---\n",
    "\n",
    "In this assignment you will work with [Weaviate API](https://weaviate.io/) to build a tiny RAG system. You will:\n",
    "\n",
    "- Load a [collection](https://weaviate.io/developers/weaviate/manage-data/collections) for BBC News data.\n",
    "- Use the Weaviate API to retrieve documents from the vector database.\n",
    "- Create functions to retrieve data based on Semantic Search, BM25 and Hybrid Search (using RRF) using the Weaviate API.\n",
    "- Use an LLM to generate responses.\n",
    "\n",
    "**IMPORTANT**: This assignment assumes you know how to handle simple tasks with collections in the Weaviate API. If you are not familiar with it yet, please read the Ungraded Lab on the Weaviate API! Furthermore, the data you will be working here is already *chunked*. You can get more hands-on experience on chunking reading the Ungraded Lab on chunking!"
   ]
  },
  {
   "cell_type": "markdown",
   "metadata": {},
   "source": [
    "\n",
    "# Table of Contents\n",
    "- [ 1 - Loading the libraries](#1)\n",
    "- [ 2 - Setting up the Weaviate Client and loading the data](#2)\n",
    "  - [ 2.1 Loading the Weaviate Client](#2-1)\n",
    "  - [ 2.2 Loading the data](#2-2)\n",
    "- [ 3 - Loading the Collection](#3)\n",
    "  - [ 3.1 Metadata filtering](#3-1)\n",
    "    - [ Exercise 1](#ex01)\n",
    "  - [ 3.2 Semantic search](#3-2)\n",
    "    - [ Exercise 2](#ex02)\n",
    "  - [ 3.3 BM25 Serach](#3-3)\n",
    "    - [ Exercise 3](#ex03)\n",
    "  - [ 3.4 Hybrid search](#3-4)\n",
    "    - [ Exercise 4](#ex04)\n",
    "    - [ Exercise 5](#ex05)\n",
    "- [ 4 - Incorporating the Weaviate API into our previous schema](#4)\n",
    "  - [ 4.1 Generating the final prompt](#4-1)\n",
    "  - [ 4.2 LLM call](#4-2)\n",
    "- [ 5 - Experimenting with Your RAG System](#5)\n"
   ]
  },
  {
   "cell_type": "markdown",
   "metadata": {
    "tags": []
   },
   "source": [
    "---\n",
    "<h4 style=\"color:black; font-weight:bold;\">USING THE TABLE OF CONTENTS</h4>\n",
    "\n",
    "JupyterLab provides an easy way for you to navigate through your assignment. It's located under the Table of Contents tab, found in the left panel, as shown in the picture below.\n",
    "\n",
    "![TOC Location](images/toc.png)\n",
    "\n",
    "---\n",
    "\n",
    "<h4 style=\"color:green; font-weight:bold;\">TIPS FOR SUCCESSFUL GRADING OF YOUR ASSIGNMENT:</h4>\n",
    "\n",
    "- All cells are frozen except for the ones where you need to submit your solutions or when explicitly mentioned you can interact with it.\n",
    "\n",
    "- You can add new cells to experiment but these will be omitted by the grader, so don't rely on newly created cells to host your solution code, use the provided places for this.\n",
    "\n",
    "- Avoid using global variables unless you absolutely have to. The grader tests your code in an isolated environment without running all cells from the top. As a result, global variables may be unavailable when scoring your submission. Global variables that are meant to be used will be defined in UPPERCASE.\n",
    "\n",
    "- - To submit your notebook for grading, first save it by clicking the 💾 icon on the top left of the page and then click on the <span style=\"background-color: blue; color: white; padding: 3px 5px; font-size: 16px; border-radius: 5px;\">Submit assignment</span> button on the top right of the page.\n",
    "---"
   ]
  },
  {
   "cell_type": "markdown",
   "metadata": {},
   "source": [
    "<a id='1'></a>\n",
    "## 1 - Loading the libraries\n",
    "\n",
    "---\n",
    "\n",
    "Run the cell below to load the necessary libraries for this assignment."
   ]
  },
  {
   "cell_type": "code",
   "execution_count": 1,
   "metadata": {
    "deletable": false,
    "editable": false,
    "tags": []
   },
   "outputs": [],
   "source": [
    "import joblib\n",
    "import weaviate\n",
    "from weaviate.classes.query import (\n",
    "    Filter, \n",
    "    Rerank\n",
    ")"
   ]
  },
  {
   "cell_type": "code",
   "execution_count": 2,
   "metadata": {
    "deletable": false,
    "editable": false,
    "tags": []
   },
   "outputs": [
    {
     "name": "stdout",
     "output_type": "stream",
     "text": [
      " * Serving Flask app 'flask_app'\n",
      " * Debug mode: off\n"
     ]
    },
    {
     "name": "stderr",
     "output_type": "stream",
     "text": [
      "You're using a XLMRobertaTokenizerFast tokenizer. Please note that with a fast tokenizer, using the `__call__` method is faster than using a method to encode the text followed by a call to the `pad` method to get a padded encoding.\n"
     ]
    }
   ],
   "source": [
    "import flask_app\n",
    "import weaviate_server\n",
    "from utils import (\n",
    "    generate_with_single_input,\n",
    "    print_object_properties,\n",
    "    display_widget\n",
    ")\n",
    "import unittests"
   ]
  },
  {
   "cell_type": "markdown",
   "metadata": {},
   "source": [
    "<a id='2'></a>\n",
    "## 2 - Setting up the Weaviate Client and loading the data\n",
    "\n",
    "---\n",
    "\n",
    "In this section, you will set up the Weaviate client and load the data, which consists of the [BBC news dataset](https://www.kaggle.com/datasets/gpreda/bbc-news) adapted from Kaggle."
   ]
  },
  {
   "cell_type": "markdown",
   "metadata": {},
   "source": [
    "<a id='2-1'></a>\n",
    "### 2.1 Loading the Weaviate Client\n",
    "\n",
    "Let's connect the Weaviate client to begin working with the Weaviate API. The server is already running on the backend. \n",
    "\n",
    "**Troubleshooting:**\n",
    "\n",
    "- If you encounter issues loading the next cell, try restarting your kernel, clicking in the circled arrow in the panel above."
   ]
  },
  {
   "cell_type": "code",
   "execution_count": 3,
   "metadata": {
    "deletable": false,
    "editable": false,
    "tags": []
   },
   "outputs": [],
   "source": [
    "client = weaviate.connect_to_local(port=8079, grpc_port=50050)"
   ]
  },
  {
   "cell_type": "markdown",
   "metadata": {},
   "source": [
    "<a id='2-2'></a>\n",
    "### 2.2 Loading the data\n",
    "\n",
    "Now, let's load the data. The dataset is structured with the following fields:\n",
    "\n",
    "- **`title`**: The headline of the article.\n",
    "- **`pubDate`**: The publication date and time of the article.\n",
    "- **`guid`**: A unique identifier for the article, commonly used for listing.\n",
    "- **`link`**: A URL link to access the full article online.\n",
    "- **`description`**: A brief summary or teaser of the article's content.\n",
    "- **`article_content`**: The complete text of the article, providing detailed information."
   ]
  },
  {
   "cell_type": "code",
   "execution_count": 4,
   "metadata": {
    "deletable": false,
    "editable": false,
    "tags": []
   },
   "outputs": [],
   "source": [
    "bbc_data = joblib.load('data/bbc_data.joblib')"
   ]
  },
  {
   "cell_type": "code",
   "execution_count": 5,
   "metadata": {
    "deletable": false,
    "editable": false,
    "tags": []
   },
   "outputs": [
    {
     "name": "stdout",
     "output_type": "stream",
     "text": [
      "article_content: Justin Welby speaks on BBC Radio 4's Today programme as part of a special show guest edited by Dame ...(truncated)\n",
      "description: The Archbishop of Canterbury urges politicians to \"forswear wedge issues\" and avoid divisive topics.\n",
      "guid: https://www.bbc.co.uk/news/uk-67844356\n",
      "link: https://www.bbc.co.uk/news/uk-67844356?at_medium=RSS&at_campaign=KARANGA\n",
      "pubDate: 2024-01-01 00:00:04\n",
      "title: Justin Welby: Political leaders should treat opponents as human beings\n",
      "\n"
     ]
    }
   ],
   "source": [
    "print_object_properties(bbc_data[0])"
   ]
  },
  {
   "cell_type": "markdown",
   "metadata": {},
   "source": [
    "<a id='3'></a>\n",
    "## 3 - Loading the Collection\n",
    "\n",
    "---\n",
    "\n",
    "In this section, you will load the collection containing the BBC News dataset."
   ]
  },
  {
   "cell_type": "code",
   "execution_count": 6,
   "metadata": {
    "deletable": false,
    "editable": false,
    "tags": []
   },
   "outputs": [],
   "source": [
    "collection = client.collections.get(\"bbc_collection\")"
   ]
  },
  {
   "cell_type": "code",
   "execution_count": 7,
   "metadata": {
    "deletable": false,
    "editable": false,
    "tags": []
   },
   "outputs": [
    {
     "name": "stdout",
     "output_type": "stream",
     "text": [
      "The number of elements in the collection is: 75256\n"
     ]
    }
   ],
   "source": [
    "print(f\"The number of elements in the collection is: {len(collection)}\")"
   ]
  },
  {
   "cell_type": "markdown",
   "metadata": {},
   "source": [
    "Let's fetch one example of object in this collection."
   ]
  },
  {
   "cell_type": "code",
   "execution_count": 9,
   "metadata": {
    "deletable": false,
    "editable": false,
    "tags": []
   },
   "outputs": [
    {
     "name": "stdout",
     "output_type": "stream",
     "text": [
      "Printing the properties (some will be truncated due to size)\n",
      "article_content: US Vice-President Kamala Harris has gone on the offensive against Donald Trump in the first rally of...(truncated)\n",
      "chunk: US Vice-President Kamala Harris has gone on the offensive against Donald Trump in the first rally of...(truncated)\n",
      "chunk_index: 0\n",
      "description: The Democratic White House candidate highlights her Republican opponent's criminal conviction, while he portrays her as \"radical left\".\n",
      "link: https://www.bbc.com/news/articles/cn053pnv0k1o\n",
      "pubDate: 2024-07-24 00:14:06+00:00\n",
      "title: Kamala Harris slams Trump at first rally as he hits back\n",
      "\n",
      "Vector: (truncated) [-0.05203712731599808, -0.05209054797887802, 0.008704056963324547, -0.012111086398363113, 0.009252868592739105, -0.027179855853319168, 0.020350266247987747, -0.012469162233173847, 0.012519430369138718, -0.028637126088142395, 0.03203899413347244, 0.009703295305371284, -0.08515051752328873, 0.06591801345348358, 0.07906429469585419]\n",
      "Vector length:  768\n"
     ]
    }
   ],
   "source": [
    "object = collection.query.fetch_objects(limit = 1, include_vector = True).objects[0]\n",
    "print(\"Printing the properties (some will be truncated due to size)\")\n",
    "print_object_properties(object.properties)\n",
    "print(\"Vector: (truncated)\",object.vector['main_vector'][0:15])\n",
    "print(\"Vector length: \", len(object.vector['main_vector']))"
   ]
  },
  {
   "cell_type": "markdown",
   "metadata": {},
   "source": [
    "The vector length is `768`. So every chunk in the vector database is mapped into a 768 dimension vector. This is the vector the Weaviate API uses to perform semantic search."
   ]
  },
  {
   "cell_type": "markdown",
   "metadata": {
    "tags": []
   },
   "source": [
    "<a id='ex01'></a>\n",
    "\n",
    "<a id='3-1'></a>\n",
    "### 3.1 Metadata filtering\n",
    "\n",
    "<a id='ex01'></a>\n",
    "### Exercise 1\n",
    "\n",
    "In this exercise, you will implement a metadata filtering function. This function will take several inputs: a property (such as `article_content`, `title`, `pubDate`, etc.), the values you want to filter by, the collection you want to search in, and the number of items you want to retrieve.\n",
    "\n",
    "<details>\n",
    "<summary style=\"color: green;\">Hint 1</summary>\n",
    "<p>Remember that to perform filtering based only on metadata, the appropriate method to use is <code>collection.query.fetch_objects</code>.</p>\n",
    "</details>\n",
    "<details>\n",
    "<summary style=\"color: green;\">Hint 2</summary>\n",
    "<p>When using <code>collection.query.fetch_objects</code>, you must provide the <code>metadata_property</code> as the <code>property</code> and the corresponding <code>Filter</code> object.</p>\n",
    "</details>\n",
    "<details>\n",
    "<summary style=\"color: green;\">Hint 3</summary>\n",
    "<p>The filter object should be used with the method <code>.by_property</code> for the appropriate property, and <code>.contains_any</code> with the relevant values. A typical call would be <code>Filter.by_property(metadata_property).contains_any(values)</code>.</p>\n",
    "<p>To limit the results, use <code>limit=limit</code> within the <code>.fetch_objects</code> method.</p>\n",
    "</details>"
   ]
  },
  {
   "cell_type": "code",
   "execution_count": 10,
   "metadata": {
    "deletable": false,
    "editable": true,
    "tags": [
     "graded"
    ]
   },
   "outputs": [],
   "source": [
    "from weaviate.classes.query import Filter\n",
    "\n",
    "# GRADED CELL\n",
    "def filter_by_metadata(metadata_property: str, \n",
    "                       values: list[str], \n",
    "                       collection: \"weaviate.collections.collection.sync.Collection\", \n",
    "                       limit: int = 5) -> list:\n",
    "    \"\"\"\n",
    "    Retrieves objects from a specified collection based on metadata filtering criteria.\n",
    "\n",
    "    This function queries a collection within the specified client to fetch objects that match \n",
    "    certain metadata criteria. It uses a filter to find objects whose specified 'property' contains \n",
    "    any of the given 'values'. The number of objects retrieved is limited by the 'limit' parameter.\n",
    "\n",
    "    Args:\n",
    "        metadata_property (str): The name of the metadata property to filter on.\n",
    "        values (List[str]): A list of values to be matched against the specified property.\n",
    "        collection (weaviate.collections.collection.sync.Collection): The collection to query.\n",
    "        limit (int, optional): The maximum number of objects to retrieve. Defaults to 5.\n",
    "\n",
    "    Returns:\n",
    "        List[Object]: A list of objects from the collection that match the filtering criteria.\n",
    "    \"\"\"\n",
    "    ### START CODE HERE ###\n",
    "    \n",
    "    # Create the filter: property IN values\n",
    "    where_filter = Filter.by_property(metadata_property).contains_any(values)\n",
    "    \n",
    "    # Fetch objects with filter\n",
    "    response = collection.query.fetch_objects(\n",
    "        filters=where_filter,\n",
    "        limit=limit,\n",
    "        include_vector=False  # Only metadata, not embeddings\n",
    "    )\n",
    "    \n",
    "    ### END CODE HERE ###\n",
    "    \n",
    "    # Extract just the properties\n",
    "    response_objects = [obj.properties for obj in response.objects]\n",
    "    \n",
    "    return response_objects\n"
   ]
  },
  {
   "cell_type": "code",
   "execution_count": 11,
   "metadata": {
    "deletable": false,
    "editable": false,
    "tags": []
   },
   "outputs": [
    {
     "name": "stdout",
     "output_type": "stream",
     "text": [
      "article_content: The 2024 awards season kicked off in style at the Golden Globes - the first major red carpet event o...(truncated)\n",
      "chunk: some of his previous get-ups. The Bear's Jeremy Allen White - who recently became the new face (and ...(truncated)\n",
      "chunk_index: 4\n",
      "description: Stars including Margot Robbie and Taylor Swift arrived in a variety of eye-catching outfits.\n",
      "link: https://www.bbc.co.uk/news/entertainment-arts-67908727?at_medium=RSS&at_campaign=KARANGA\n",
      "pubDate: 2024-01-08 03:23:58+00:00\n",
      "title: Margot Robbie, Taylor Swift and more on Golden Globes red carpet\n",
      "\n",
      "article_content: The 2024 awards season kicked off in style at the Golden Globes - the first major red carpet event o...(truncated)\n",
      "chunk: headpiece - not entirely a fashion choice. She says the \"protective veil\" is because she hurt her fa...(truncated)\n",
      "chunk_index: 5\n",
      "description: Stars including Margot Robbie and Taylor Swift arrived in a variety of eye-catching outfits.\n",
      "link: https://www.bbc.co.uk/news/entertainment-arts-67908727?at_medium=RSS&at_campaign=KARANGA\n",
      "pubDate: 2024-01-08 03:23:58+00:00\n",
      "title: Margot Robbie, Taylor Swift and more on Golden Globes red carpet\n",
      "\n"
     ]
    }
   ],
   "source": [
    "# Let's get an example\n",
    "res = filter_by_metadata('title', ['Taylor Swift'], collection, limit = 2)\n",
    "for x in res:\n",
    "    print_object_properties(x)"
   ]
  },
  {
   "cell_type": "markdown",
   "metadata": {},
   "source": [
    "**Expected output**\n",
    "```\n",
    "article_content: The 2024 awards season kicked off in style at the Golden Globes - the first major red carpet event o...(truncated)\n",
    "chunk: some of his previous get-ups. The Bear's Jeremy Allen White - who recently became the new face (and ...(truncated)\n",
    "chunk_index: 4\n",
    "description: Stars including Margot Robbie and Taylor Swift arrived in a variety of eye-catching outfits.\n",
    "link: https://www.bbc.co.uk/news/entertainment-arts-67908727?at_medium=RSS&at_campaign=KARANGA\n",
    "pubDate: 2024-01-08 03:23:58+00:00\n",
    "title: Margot Robbie, Taylor Swift and more on Golden Globes red carpet\n",
    "\n",
    "article_content: The 2024 awards season kicked off in style at the Golden Globes - the first major red carpet event o...(truncated)\n",
    "chunk: headpiece - not entirely a fashion choice. She says the \"protective veil\" is because she hurt her fa...(truncated)\n",
    "chunk_index: 5\n",
    "description: Stars including Margot Robbie and Taylor Swift arrived in a variety of eye-catching outfits.\n",
    "link: https://www.bbc.co.uk/news/entertainment-arts-67908727?at_medium=RSS&at_campaign=KARANGA\n",
    "pubDate: 2024-01-08 03:23:58+00:00\n",
    "title: Margot Robbie, Taylor Swift and more on Golden Globes red carpet\n",
    "```"
   ]
  },
  {
   "cell_type": "code",
   "execution_count": 12,
   "metadata": {
    "deletable": false,
    "editable": false,
    "tags": []
   },
   "outputs": [
    {
     "name": "stdout",
     "output_type": "stream",
     "text": [
      "\u001b[92m All tests passed!\n"
     ]
    }
   ],
   "source": [
    "# Test your solution!\n",
    "unittests.test_filter_by_metadata(filter_by_metadata, client)"
   ]
  },
  {
   "cell_type": "markdown",
   "metadata": {},
   "source": [
    "<a id='ex02'></a>\n",
    "\n",
    "<a id='3-2'></a>\n",
    "### 3.2 Semantic search\n",
    "\n",
    "<a id='ex02'></a>\n",
    "### Exercise 2\n",
    "\n",
    "In this exercise, you will implement a semantic search retrieval, similar to the one you created in the previous assignment, but this time utilizing the Weaviate API.\n",
    "\n",
    "<details>\n",
    "<summary style=\"color: green;\">Hint</summary>\n",
    "<p>Remember that to perform semantic search, you should use the method <code>collection.query.near_text</code>.</p>\n",
    "<p>The <code>top_k</code> parameter in the function dictates how many results to retrieve. In Weaviate, this is referred to as <code>limit</code>. Adjust this parameter as needed.</p>\n",
    "</details>"
   ]
  },
  {
   "cell_type": "code",
   "execution_count": 13,
   "metadata": {
    "deletable": false,
    "editable": true,
    "tags": [
     "graded"
    ]
   },
   "outputs": [],
   "source": [
    "# GRADED CELL \n",
    "\n",
    "def semantic_search_retrieve(query: str,\n",
    "                             collection: \"weaviate.collections.collection.sync.Collection\" , \n",
    "                             top_k: int = 5) -> list:\n",
    "    \"\"\"\n",
    "    Performs a semantic search on a collection and retrieves the top relevant chunks.\n",
    "\n",
    "    This function executes a semantic search query on a specified collection to find text chunks \n",
    "    that are most relevant to the input 'query'. The search retrieves a limited number of top \n",
    "    matching objects, as specified by 'top_k'. The function returns the 'chunk' property of \n",
    "    each of the top matching objects.\n",
    "\n",
    "    Args:\n",
    "    query (str): The search query used to find relevant text chunks.\n",
    "    collection (weaviate.collections.collection.sync.Collection): The collection in which the semantic search is performed.\n",
    "    top_k (int, optional): The number of top relevant objects to retrieve. Defaults to 5.\n",
    "\n",
    "    Returns:\n",
    "    List[str]: A list of text chunks that are most relevant to the given query.\n",
    "    \"\"\"\n",
    "    ### START CODE HERE ###\n",
    "\n",
    "    # Retrieve using collection.query.near_text\n",
    "    response = collection.query.near_text(\n",
    "        query=query,\n",
    "        limit=top_k\n",
    "    )\n",
    "\n",
    "    ### END CODE HERE ###\n",
    "    \n",
    "    response_objects = [x.properties for x in response.objects]\n",
    "    \n",
    "    return response_objects"
   ]
  },
  {
   "cell_type": "code",
   "execution_count": 14,
   "metadata": {
    "deletable": false,
    "editable": false,
    "scrolled": true,
    "tags": []
   },
   "outputs": [
    {
     "name": "stdout",
     "output_type": "stream",
     "text": [
      "article_content: Taylor Swift has finished the European leg of her Eras Tour with a record-breaking show at Wembley S...(truncated)\n",
      "chunk: size crowd at all\". At an earlier show in Liverpool, she had also called the Eras Tour the “most exh...(truncated)\n",
      "chunk_index: 10\n",
      "description: The star is joined by Florence + The Machine and sings So Long, London at her final UK show.\n",
      "link: https://www.bbc.com/news/articles/cr5nr3n6epvo\n",
      "pubDate: 2024-08-21 03:02:08+00:00\n",
      "title: 'I've never had it this good' - Taylor Swift thanks fans after new Wembley record\n",
      "\n",
      "article_content: Taylor Swift has finished the European leg of her Eras Tour with a record-breaking show at Wembley S...(truncated)\n",
      "chunk: regular part of the setlist. Last week, the star was joined by Ed Sheeran to play the songs Endgame ...(truncated)\n",
      "chunk_index: 4\n",
      "description: The star is joined by Florence + The Machine and sings So Long, London at her final UK show.\n",
      "link: https://www.bbc.com/news/articles/cr5nr3n6epvo\n",
      "pubDate: 2024-08-21 03:02:08+00:00\n",
      "title: 'I've never had it this good' - Taylor Swift thanks fans after new Wembley record\n",
      "\n",
      "\n"
     ]
    }
   ],
   "source": [
    "# Let's have an example!\n",
    "print_object_properties(semantic_search_retrieve(query = 'Tell me about the last Taylor Swift show', collection = collection, top_k = 2))"
   ]
  },
  {
   "cell_type": "markdown",
   "metadata": {},
   "source": [
    "**Expected Output**\n",
    "```\n",
    "article_content: Taylor Swift has finished the European leg of her Eras Tour with a record-breaking show at Wembley S...(truncated)\n",
    "chunk: size crowd at all\". At an earlier show in Liverpool, she had also called the Eras Tour the “most exh...(truncated)\n",
    "chunk_index: 10\n",
    "description: The star is joined by Florence + The Machine and sings So Long, London at her final UK show.\n",
    "link: https://www.bbc.com/news/articles/cr5nr3n6epvo\n",
    "pubDate: 2024-08-21 03:02:08+00:00\n",
    "title: 'I've never had it this good' - Taylor Swift thanks fans after new Wembley record\n",
    "\n",
    "article_content: Taylor Swift has finished the European leg of her Eras Tour with a record-breaking show at Wembley S...(truncated)\n",
    "chunk: regular part of the setlist. Last week, the star was joined by Ed Sheeran to play the songs Endgame ...(truncated)\n",
    "chunk_index: 4\n",
    "description: The star is joined by Florence + The Machine and sings So Long, London at her final UK show.\n",
    "link: https://www.bbc.com/news/articles/cr5nr3n6epvo\n",
    "pubDate: 2024-08-21 03:02:08+00:00\n",
    "title: 'I've never had it this good' - Taylor Swift thanks fans after new Wembley record\n",
    "\n",
    "```"
   ]
  },
  {
   "cell_type": "code",
   "execution_count": 15,
   "metadata": {
    "deletable": false,
    "editable": false,
    "tags": []
   },
   "outputs": [
    {
     "name": "stdout",
     "output_type": "stream",
     "text": [
      "\u001b[92m All tests passed!\n"
     ]
    }
   ],
   "source": [
    "unittests.test_semantic_search_retrieve(semantic_search_retrieve, client)"
   ]
  },
  {
   "cell_type": "markdown",
   "metadata": {},
   "source": [
    "<a id='ex03'></a>\n",
    "\n",
    "<a id='3-3'></a>\n",
    "### 3.3 BM25 Serach\n",
    "\n",
    "<a id='ex03'></a>\n",
    "### Exercise 3\n",
    "\n",
    "In this exercise, you will implement a BM25 retrieval, similar to the one you created in the previous assignment, but now using the Weaviate API.\n",
    "<details>\n",
    "<summary style=\"color: green;\">Hint</summary>\n",
    "<p>To perform a BM25 search, use the method <code>collection.query.bm25</code>.</p>\n",
    "<p>The <code>top_k</code> parameter in the function specifies how many results to retrieve. In Weaviate, this parameter is referred to as <code>limit</code>. Adjust this accordingly.</p>\n",
    "</details>"
   ]
  },
  {
   "cell_type": "code",
   "execution_count": 16,
   "metadata": {
    "deletable": false,
    "editable": true,
    "tags": [
     "graded"
    ]
   },
   "outputs": [],
   "source": [
    "# GRADED CELL \n",
    "\n",
    "def bm25_retrieve(query: str, \n",
    "                  collection: \"weaviate.collections.collection.sync.Collection\" , \n",
    "                  top_k: int = 5) -> list:\n",
    "    \"\"\"\n",
    "    Performs a BM25 search on a collection and retrieves the top relevant chunks.\n",
    "\n",
    "    This function executes a BM25-based search query on a specified collection to identify text \n",
    "    chunks that are most relevant to the provided 'query'. It retrieves a limited number of the \n",
    "    top matching objects, as specified by 'top_k', and returns the 'chunk' property of these objects.\n",
    "\n",
    "    Args:\n",
    "    query (str): The search query used to find relevant text chunks.\n",
    "    collection (weaviate.collections.collection.sync.Collection): The collection in which the BM25 search is performed.\n",
    "    top_k (int, optional): The number of top relevant objects to retrieve. Defaults to 5.\n",
    "\n",
    "    Returns:\n",
    "    List[str]: A list of text chunks that are most relevant to the given query.\n",
    "    \"\"\"\n",
    "    \n",
    "    ### START CODE HERE ###\n",
    "\n",
    "    # Retrieve using collection.query.bm25\n",
    "    response = collection.query.bm25(\n",
    "        query=query,\n",
    "        limit=top_k\n",
    "    )\n",
    "    ### END CODE HERE ### \n",
    "    \n",
    "    response_objects = [x.properties for x in response.objects]\n",
    "    return response_objects "
   ]
  },
  {
   "cell_type": "code",
   "execution_count": 17,
   "metadata": {
    "deletable": false,
    "editable": false,
    "tags": []
   },
   "outputs": [
    {
     "name": "stdout",
     "output_type": "stream",
     "text": [
      "article_content: Rapper Killer Mike won three Grammys in the rap category - best rap song, best rap performance and b...(truncated)\n",
      "chunk: police brutality and systemic racism. He was a highly visible supporter of Bernie Sanders' two campa...(truncated)\n",
      "chunk_index: 4\n",
      "description: The 48-year-old was detained on a misdemeanour charge after winning three awards in the rap category.\n",
      "link: https://www.bbc.co.uk/news/world-us-canada-68201021?at_medium=RSS&at_campaign=KARANGA\n",
      "pubDate: 2024-02-05 23:27:08+00:00\n",
      "title: Killer Mike dismisses arrest at Grammys as 'speed bump'\n",
      "\n",
      "article_content: Rapper Killer Mike won three Grammys in the rap category - best rap song, best rap performance and b...(truncated)\n",
      "chunk: Nicki Minaj. He also won a third award for best rap album with his album Michael. \"You cannot tell m...(truncated)\n",
      "chunk_index: 3\n",
      "description: The 48-year-old was detained on a misdemeanour charge after winning three awards in the rap category.\n",
      "link: https://www.bbc.co.uk/news/world-us-canada-68201021?at_medium=RSS&at_campaign=KARANGA\n",
      "pubDate: 2024-02-05 23:27:08+00:00\n",
      "title: Killer Mike dismisses arrest at Grammys as 'speed bump'\n",
      "\n",
      "\n"
     ]
    }
   ],
   "source": [
    "print_object_properties(bm25_retrieve('Tell me about the last Taylor Swift show', collection, top_k = 2))"
   ]
  },
  {
   "cell_type": "markdown",
   "metadata": {},
   "source": [
    "**Expected Output**\n",
    "```\n",
    "article_content: Rapper Killer Mike won three Grammys in the rap category - best rap song, best rap performance and b...(truncated)\n",
    "chunk: police brutality and systemic racism. He was a highly visible supporter of Bernie Sanders' two campa...(truncated)\n",
    "chunk_index: 4\n",
    "description: The 48-year-old was detained on a misdemeanour charge after winning three awards in the rap category.\n",
    "link: https://www.bbc.co.uk/news/world-us-canada-68201021?at_medium=RSS&at_campaign=KARANGA\n",
    "pubDate: 2024-02-05 23:27:08+00:00\n",
    "title: Killer Mike dismisses arrest at Grammys as 'speed bump'\n",
    "\n",
    "article_content: Rapper Killer Mike won three Grammys in the rap category - best rap song, best rap performance and b...(truncated)\n",
    "chunk: Nicki Minaj. He also won a third award for best rap album with his album Michael. \"You cannot tell m...(truncated)\n",
    "chunk_index: 3\n",
    "description: The 48-year-old was detained on a misdemeanour charge after winning three awards in the rap category.\n",
    "link: https://www.bbc.co.uk/news/world-us-canada-68201021?at_medium=RSS&at_campaign=KARANGA\n",
    "pubDate: 2024-02-05 23:27:08+00:00\n",
    "title: Killer Mike dismisses arrest at Grammys as 'speed bump'\n",
    "```"
   ]
  },
  {
   "cell_type": "code",
   "execution_count": 18,
   "metadata": {
    "deletable": false,
    "editable": false,
    "tags": []
   },
   "outputs": [
    {
     "name": "stdout",
     "output_type": "stream",
     "text": [
      "\u001b[92m All tests passed!\n"
     ]
    }
   ],
   "source": [
    "unittests.test_bm25_retrieve(bm25_retrieve, client)"
   ]
  },
  {
   "cell_type": "markdown",
   "metadata": {},
   "source": [
    "<a id='ex04'></a>\n",
    "\n",
    "<a id='3-4'></a>\n",
    "### 3.4 Hybrid search\n",
    "\n",
    "<a id='ex04'></a>\n",
    "### Exercise 4\n",
    "\n",
    "In this exercise, you will implement a Reciprocal Rank Fusion (RRF) retrieval system using the Weaviate API. To achieve this, you will need to use the `collection.query.hybrid` method.\n",
    "\n",
    "\n",
    "\n",
    "<details>\n",
    "<summary style=\"color: green;\">Hint</summary>\n",
    "<p>To perform a hybrid search, use the method <code>collection.query.hybrid</code>.</p>\n",
    "<p>The <code>top_k</code> parameter in the function specifies how many results to retrieve. In Weaviate, this is referred to as <code>limit</code>. Make sure to also include the <code>alpha</code>.</p>\n",
    "</details>"
   ]
  },
  {
   "cell_type": "code",
   "execution_count": 19,
   "metadata": {
    "deletable": false,
    "editable": true,
    "tags": [
     "graded"
    ]
   },
   "outputs": [],
   "source": [
    "# GRADED CELL \n",
    "\n",
    "def hybrid_retrieve(query: str, \n",
    "                    collection: \"weaviate.collections.collection.sync.Collection\" , \n",
    "                    alpha: float = 0.5,\n",
    "                    top_k: int = 5\n",
    "                   ) -> list:\n",
    "    \"\"\"\n",
    "    Performs a hybrid search on a collection and retrieves the top relevant chunks.\n",
    "\n",
    "    This function executes a hybrid search that combines semantic vector search and traditional \n",
    "    keyword-based search on a specified collection to find text chunks most relevant to the \n",
    "    input 'query'. The relevance of results is influenced by 'alpha', which balances the weight \n",
    "    between vector and keyword matches. It retrieves a limited number of top matching objects, \n",
    "    as specified by 'top_k', and returns the 'chunk' property of these objects.\n",
    "\n",
    "    Args:\n",
    "    query (str): The search query used to find relevant text chunks.\n",
    "    collection (weaviate.collections.collection.sync.Collection): The collection in which the hybrid search is performed.\n",
    "    alpha (float, optional): A weighting factor that balances the contribution of semantic \n",
    "    and keyword matches. Defaults to 0.5.\n",
    "    top_k (int, optional): The number of top relevant objects to retrieve. Defaults to 5.\n",
    "\n",
    "    Returns:\n",
    "    List[str]: A list of text chunks that are most relevant to the given query.\n",
    "    \"\"\"\n",
    "    ### START CODE HERE ### \n",
    "\n",
    "    # Retrieve using collection.query.hybrid\n",
    "    response = collection.query.hybrid(\n",
    "        query=query,\n",
    "        alpha=alpha,\n",
    "        limit=top_k\n",
    "    )\n",
    "    ### END CODE HERE ###\n",
    "    \n",
    "    response_objects = [x.properties for x in response.objects]\n",
    "    \n",
    "    return response_objects "
   ]
  },
  {
   "cell_type": "code",
   "execution_count": 20,
   "metadata": {
    "deletable": false,
    "editable": false,
    "tags": []
   },
   "outputs": [
    {
     "name": "stdout",
     "output_type": "stream",
     "text": [
      "article_content: Rapper Killer Mike won three Grammys in the rap category - best rap song, best rap performance and b...(truncated)\n",
      "chunk: police brutality and systemic racism. He was a highly visible supporter of Bernie Sanders' two campa...(truncated)\n",
      "chunk_index: 4\n",
      "description: The 48-year-old was detained on a misdemeanour charge after winning three awards in the rap category.\n",
      "link: https://www.bbc.co.uk/news/world-us-canada-68201021?at_medium=RSS&at_campaign=KARANGA\n",
      "pubDate: 2024-02-05 23:27:08+00:00\n",
      "title: Killer Mike dismisses arrest at Grammys as 'speed bump'\n",
      "\n",
      "article_content: Taylor Swift has finished the European leg of her Eras Tour with a record-breaking show at Wembley S...(truncated)\n",
      "chunk: size crowd at all\". At an earlier show in Liverpool, she had also called the Eras Tour the “most exh...(truncated)\n",
      "chunk_index: 10\n",
      "description: The star is joined by Florence + The Machine and sings So Long, London at her final UK show.\n",
      "link: https://www.bbc.com/news/articles/cr5nr3n6epvo\n",
      "pubDate: 2024-08-21 03:02:08+00:00\n",
      "title: 'I've never had it this good' - Taylor Swift thanks fans after new Wembley record\n",
      "\n",
      "\n"
     ]
    }
   ],
   "source": [
    "print_object_properties(hybrid_retrieve('Tell me about the last Taylor Swift show', collection, top_k = 2))"
   ]
  },
  {
   "cell_type": "markdown",
   "metadata": {},
   "source": [
    "**Expected Output**\n",
    "```\n",
    "article_content: Rapper Killer Mike won three Grammys in the rap category - best rap song, best rap performance and b...(truncated)\n",
    "chunk: police brutality and systemic racism. He was a highly visible supporter of Bernie Sanders' two campa...(truncated)\n",
    "chunk_index: 4\n",
    "description: The 48-year-old was detained on a misdemeanour charge after winning three awards in the rap category.\n",
    "link: https://www.bbc.co.uk/news/world-us-canada-68201021?at_medium=RSS&at_campaign=KARANGA\n",
    "pubDate: 2024-02-05 23:27:08+00:00\n",
    "title: Killer Mike dismisses arrest at Grammys as 'speed bump'\n",
    "\n",
    "article_content: Taylor Swift has finished the European leg of her Eras Tour with a record-breaking show at Wembley S...(truncated)\n",
    "chunk: size crowd at all\". At an earlier show in Liverpool, she had also called the Eras Tour the “most exh...(truncated)\n",
    "chunk_index: 10\n",
    "description: The star is joined by Florence + The Machine and sings So Long, London at her final UK show.\n",
    "link: https://www.bbc.com/news/articles/cr5nr3n6epvo\n",
    "pubDate: 2024-08-21 03:02:08+00:00\n",
    "title: 'I've never had it this good' - Taylor Swift thanks fans after new Wembley record\n",
    "```"
   ]
  },
  {
   "cell_type": "code",
   "execution_count": 21,
   "metadata": {
    "deletable": false,
    "editable": false,
    "tags": []
   },
   "outputs": [
    {
     "name": "stdout",
     "output_type": "stream",
     "text": [
      "\u001b[92m All tests passed!\n"
     ]
    }
   ],
   "source": [
    "unittests.test_hybrid_retrieve(hybrid_retrieve, client)"
   ]
  },
  {
   "cell_type": "markdown",
   "metadata": {},
   "source": [
    "### 5 - Reranking\n",
    "\n",
    "<a id='ex05'></a>\n",
    "\n",
    "<a id='ex05'></a>\n",
    "### Exercise 5\n",
    "\n",
    "In this section, you will create a new version of `semantic_search` that allows reranking of the results. This new function must support using a different query for reranking or reranking based on a specific document property (e.g., reranking using only the title).\n",
    "\n",
    "Your task is to add the `rerank` parameter to the `collection.query.near_text` call.\n",
    "\n",
    "<details>\n",
    "<summary style=\"color: green;\">Hint 1</summary>\n",
    "<p>Remember that <code>collection.query.near_text</code> takes a query, a limit (i.e., <code>top_k</code>), and now also requires the <code>rerank</code> parameter.</p>\n",
    "</details>\n",
    "\n",
    "<details>\n",
    "<summary style=\"color: green;\">Hint 2</summary>\n",
    "<p>The <code>Rerank</code> object is already loaded into memory. It takes two parameters: the query and the document property to use for ranking—<code>query</code> and <code>prop</code>, respectively.</p>\n",
    "</details>\n",
    "\n",
    "<details>\n",
    "<summary style=\"color: green;\">Hint 3</summary>\n",
    "<p>Define the reranker as <code>reranker = Reranker(appropriate_parameters)</code>. Don’t forget: the query for the reranker should be <code>rerank_query</code>!</p>\n",
    "</details>"
   ]
  },
  {
   "cell_type": "code",
   "execution_count": 22,
   "metadata": {
    "deletable": false,
    "tags": [
     "graded"
    ]
   },
   "outputs": [],
   "source": [
    "# GRADED CELL \n",
    "\n",
    "def semantic_search_with_reranking(query: str, \n",
    "                                   rerank_property: str,\n",
    "                                   collection: \"weaviate.collections.collection.sync.Collection\" , \n",
    "                                   rerank_query: str = None,\n",
    "                                   top_k: int = 5\n",
    "                                   ) -> list:\n",
    "    \"\"\"\n",
    "    Performs a semantic search and reranks the results based on a specified property.\n",
    "\n",
    "    Args:\n",
    "        query (str): The search query to perform the initial search.\n",
    "        rerank_property (str): The property used for reranking the search results.\n",
    "        collection (weaviate.collections.collection.sync.Collection): The collection to search within.\n",
    "        rerank_query (str, optional): The query to use specifically for reranking. If not provided, \n",
    "                                      the original query is used for reranking.\n",
    "        top_k (int, optional): The maximum number of top results to return. Defaults to 5.\n",
    "\n",
    "    Returns:\n",
    "        list: A list of properties from the reranked search results, where each item corresponds to \n",
    "              an object in the collection.\n",
    "    \"\"\"\n",
    "    ### START CODE HERE ### \n",
    "\n",
    "    # Set the rerank_query to be the same as the query if rerank_query is not passed (don't change this line)\n",
    "    if rerank_query is None: \n",
    "        rerank_query = query \n",
    "        \n",
    "    # Define the reranker with rerank_query and rerank_property\n",
    "    reranker = Rerank(query=rerank_query, prop=rerank_property)\n",
    "\n",
    "    # Retrieve using collection.query.near_text with the appropriate parameters (do not forget the rerank!)\n",
    "    response = collection.query.near_text(\n",
    "        query=query,\n",
    "        limit=top_k,\n",
    "        rerank=reranker\n",
    "    )\n",
    "\n",
    "    ### END CODE HERE ###\n",
    "    \n",
    "    response_objects = [x.properties for x in response.objects]\n",
    "    \n",
    "    return response_objects "
   ]
  },
  {
   "cell_type": "markdown",
   "metadata": {},
   "source": [
    "The reranker model receives a query and a passage (in our case, a chunk of the result) to compute a similarity score."
   ]
  },
  {
   "cell_type": "code",
   "execution_count": 23,
   "metadata": {
    "deletable": false,
    "editable": false,
    "tags": []
   },
   "outputs": [],
   "source": [
    "# Set a query\n",
    "query = 'Tell me about the conflicts in Latin America'\n",
    "# Get the results from a search (in this case the hybrid search)\n",
    "results = semantic_search_with_reranking(query, collection = collection, top_k = 2, rerank_property = 'chunk')"
   ]
  },
  {
   "cell_type": "code",
   "execution_count": 24,
   "metadata": {
    "deletable": false,
    "editable": false,
    "tags": []
   },
   "outputs": [
    {
     "name": "stdout",
     "output_type": "stream",
     "text": [
      "article_content: A huge diplomatic row has erupted after Spain's transport minister suggested Argentina's president h...(truncated)\n",
      "chunk: weeks' to attend the launch of Vox's European election campaign, newspaper El Pais reported. Mr Mile...(truncated)\n",
      "chunk_index: 3\n",
      "description: A row breaks out after Spain's transport minister suggests Argentina's president has taken drugs.\n",
      "link: https://www.bbc.com/news/articles/czd8qzvpl4lo\n",
      "pubDate: 2024-05-04 15:56:45+00:00\n",
      "title: Spain-Argentina row over drug-use accusation\n",
      "\n",
      "article_content: Opposition supporters have gathered across Venezuela to protest against Nicolás Maduro's disputed vi...(truncated)\n",
      "chunk: the world, from Australia to Spain and also in the United Kingdom, Canada, Colombia, Mexico and Arge...(truncated)\n",
      "chunk_index: 4\n",
      "description: Opposition leader María Corina Machado joined thousands of demonstrators in the capital Caracas.\n",
      "link: https://www.bbc.com/news/articles/cgedgqqy7x9o\n",
      "pubDate: 2024-08-17 23:19:48+00:00\n",
      "title: Protests across Venezuela as election dispute goes on\n",
      "\n",
      "\n"
     ]
    }
   ],
   "source": [
    "print_object_properties(results)"
   ]
  },
  {
   "cell_type": "markdown",
   "metadata": {},
   "source": [
    "**Expected Results**\n",
    "```\n",
    "article_content: A huge diplomatic row has erupted after Spain's transport minister suggested Argentina's president h...(truncated)\n",
    "chunk: weeks' to attend the launch of Vox's European election campaign, newspaper El Pais reported. Mr Mile...(truncated)\n",
    "chunk_index: 3\n",
    "description: A row breaks out after Spain's transport minister suggests Argentina's president has taken drugs.\n",
    "link: https://www.bbc.com/news/articles/czd8qzvpl4lo\n",
    "pubDate: 2024-05-04 15:56:45+00:00\n",
    "title: Spain-Argentina row over drug-use accusation\n",
    "\n",
    "article_content: Opposition supporters have gathered across Venezuela to protest against Nicolás Maduro's disputed vi...(truncated)\n",
    "chunk: the world, from Australia to Spain and also in the United Kingdom, Canada, Colombia, Mexico and Arge...(truncated)\n",
    "chunk_index: 4\n",
    "description: Opposition leader María Corina Machado joined thousands of demonstrators in the capital Caracas.\n",
    "link: https://www.bbc.com/news/articles/cgedgqqy7x9o\n",
    "pubDate: 2024-08-17 23:19:48+00:00\n",
    "title: Protests across Venezuela as election dispute goes on\n",
    "```"
   ]
  },
  {
   "cell_type": "code",
   "execution_count": 25,
   "metadata": {
    "deletable": false,
    "editable": false,
    "tags": []
   },
   "outputs": [
    {
     "name": "stdout",
     "output_type": "stream",
     "text": [
      "\u001b[92m All tests passed!\n"
     ]
    }
   ],
   "source": [
    "# Test your function!\n",
    "unittests.test_semantic_search_with_reranking(semantic_search_with_reranking, client)"
   ]
  },
  {
   "cell_type": "markdown",
   "metadata": {},
   "source": [
    "<a id='4'></a>\n",
    "## 4 - Incorporating the Weaviate API into our previous schema\n",
    "---\n",
    "\n",
    "This section is not graded. Here, you will revisit the functions used throughout the assignments to integrate the Weaviate API into your existing schema. Once integrated, you will be able to run prompts and test your new RAG system!\n",
    "\n",
    "<a id='4-1'></a>\n",
    "### 4.1 Generating the final prompt\n"
   ]
  },
  {
   "cell_type": "code",
   "execution_count": 27,
   "metadata": {
    "deletable": false,
    "editable": false,
    "tags": []
   },
   "outputs": [],
   "source": [
    "def generate_final_prompt(query: str, \n",
    "                          top_k: int, \n",
    "                          retrieve_function: callable,\n",
    "                          rerank_query: str = None, \n",
    "                          rerank_property: str = None, \n",
    "                          use_rerank: bool = False, \n",
    "                          use_rag: bool = True) -> str:\n",
    "    \"\"\"\n",
    "    Generates a final prompt by optionally retrieving and formatting relevant documents using retrieval-augmented generation (RAG).\n",
    "\n",
    "    Args:\n",
    "        query (str): The initial query to be used for document retrieval.\n",
    "        top_k (int): The number of top documents to retrieve and use for generating the prompt.\n",
    "        retrieve_function (callable): The function used to retrieve documents based on the query.\n",
    "        rerank_query (str, optional): The query used specifically for reranking documents if reranking is enabled.\n",
    "        rerank_property (str, optional): The property used for reranking. Required if 'use_rerank' is True.\n",
    "        use_rerank (bool, optional): Flag to denote whether to use reranking in document retrieval. Defaults to False.\n",
    "        use_rag (bool, optional): Flag to determine whether to use retrieval-augmented generation. Defaults to True.\n",
    "\n",
    "    Returns:\n",
    "        str: A constructed prompt that includes the original query and formatted retrieved documents if 'use_rag' is True.\n",
    "             Otherwise, it returns the original query.\n",
    "    \"\"\"\n",
    "    # If no rag, return the query\n",
    "    if not use_rag:\n",
    "        return query\n",
    "    \n",
    "    if use_rerank:\n",
    "        if rerank_property is None:\n",
    "            raise ValueError('rerank_property must be set if use_rerank = True')\n",
    "        top_k_documents = retrieve_function(query=query, top_k=top_k, collection = collection, rerank_property = rerank_property, rerank_query = rerank_query)\n",
    "    else:\n",
    "        top_k_documents = retrieve_function(query=query, top_k=top_k, collection = collection)\n",
    "    \n",
    "    # Initialize an empty string to store the formatted data.\n",
    "    formatted_data = \"\"\n",
    "    \n",
    "    # Iterate over each retrieved document.\n",
    "    for document in top_k_documents:\n",
    "        # Format each document into a structured string.\n",
    "        document_layout = (\n",
    "            f\"Title: {document['title']}, Chunk: {document['chunk']}, \"\n",
    "            f\"Published at: {document['pubDate']}\\nURL: {document['link']}\"\n",
    "        )\n",
    "        # Append the formatted string to the main data string with a newline for separation.\n",
    "        formatted_data += document_layout + \"\\n\"\n",
    "    \n",
    "    # If use_rag flag is True, construct the enhanced prompt with the augmented data.\n",
    "    retrieve_data_formatted = formatted_data  # Store formatted data.\n",
    "    prompt = (\n",
    "        f\"Answer the user query below. There will be provided additional information for you to compose your answer. \"\n",
    "        f\"The relevant information provided is from 2024 and it should be added as your overall knowledge to answer the query, \"\n",
    "        f\"you should not rely only on this information to answer the query, but add it to your overall knowledge.\"\n",
    "        f\"The news data is ordered by relevance.\"\n",
    "        f\"Query: {query}\\n\"\n",
    "        f\"2024 News: {retrieve_data_formatted}\"\n",
    "    )\n",
    "    \n",
    "    return prompt"
   ]
  },
  {
   "cell_type": "code",
   "execution_count": 28,
   "metadata": {
    "deletable": false,
    "editable": false,
    "tags": []
   },
   "outputs": [],
   "source": [
    "prompt = generate_final_prompt(\"Tell me the economic situation of the US in 2024.\", top_k = 5, retrieve_function = semantic_search_retrieve, use_rerank = False, rerank_property = 'title')"
   ]
  },
  {
   "cell_type": "code",
   "execution_count": 29,
   "metadata": {
    "deletable": false,
    "editable": false,
    "tags": []
   },
   "outputs": [
    {
     "name": "stdout",
     "output_type": "stream",
     "text": [
      "Answer the user query below. There will be provided additional information for you to compose your answer. The relevant information provided is from 2024 and it should be added as your overall knowledge to answer the query, you should not rely only on this information to answer the query, but add it to your overall knowledge.The news data is ordered by relevance.Query: Tell me the economic situation of the US in 2024.\n",
      "2024 News: Title: What is a recession and how could one affect me?, Chunk: which was much better than expected. That put the US at 2.5% over 2023 as a whole, the best performance of all other advanced economies. It is also expected to outperform the rest of the G7 in 2024. In October 2023, the International Monetary Fund (IMF) predicted that the UK would grow by just 0.6% in 2024. The independent Office for Budget Responsibility (OBR) expects the UK economy to grow by 0.7% in 2024, but that is less than half of its earlier prediction of 1.8% growth. How will the UK economy compare to others in 2024?, Published at: 2024-05-10 08:11:34+00:00\n",
      "URL: https://www.bbc.co.uk/news/business-52986863\n",
      "Title: Why US economy is powering ahead of Europe's, Chunk: While countries around the world have struggled to recover from the economic setbacks brought on by the pandemic, one has emerged particularly strong. With a fast-growing economy, a strong labour market and falling inflation, the US has outpaced its counterparts in Europe and elsewhere. In terms of GDP, it posted a 3.3% gain in the fourth quarter of 2023, far exceeding economists' expectations of 2%. That put the US at 2.5% over the course of the year, outpacing all other advanced economies and on track to do so again in 2024. \"The US is holding up much better than other, Published at: 2024-02-13 01:31:34+00:00\n",
      "URL: https://www.bbc.co.uk/news/world-us-canada-68203820?at_medium=RSS&at_campaign=KARANGA\n",
      "Title: Why US economy is powering ahead of Europe's, Chunk: need it. The size of the US rescue deal dwarfed what other countries did, although some like Japan, Germany and Canada also went big. European countries have a more robust social safety net than the US and were able to adapt existing programmes without increasing spending. But this short-term advantage could not make up for the huge gap in stimulus size. High inflation has been a painful experience for many Americans and has shaped their view of how the economy is faring. But a strong jobs market has helped disposable income, which is the engine behind consumer spending. The unemployment rate in the US has been below 4% since February 2022, which is on a par with historic lows. And, Published at: 2024-02-13 01:31:34+00:00\n",
      "URL: https://www.bbc.co.uk/news/world-us-canada-68203820?at_medium=RSS&at_campaign=KARANGA\n",
      "Title: US interest rates cut by 0.5% in first drop in four years, Chunk: now see inflation falling faster and unemployment rising higher than they did in June, with the jobless rate expected to hit 4.4% by the end of the 2024. Mr Powell said the job market had been too hot last year, and he welcomed some cooling, but he denied that the Fed was worried about the start of a serious slowdown. \"I do not see anything in the economy right now that suggests that the likelihood... of a downturn is elevated,\" he said. Over the three months to June, the US economy grew at an annual rate of 3%, the most recent Commerce Department figures show. Retail spending has also remained resilient. Inflation, meanwhile, dropped to 2.5% in August, moving closer, Published at: 2024-09-18 20:46:36+00:00\n",
      "URL: https://www.bbc.com/news/articles/cz04md0zdrno\n",
      "Title: What is a recession and how could one affect me?, Chunk: time as there is high inflation, there can be a situation called \"stagflation\". This can be very difficult to solve, because the two issues require different solutions. However in May 2024, Bank of England governor Andrew Bailey told the BBC that the UK economy had \"turned a corner\". With growth of 0.6% from January to March this year, the UK was the joint fastest growing economy in the G7 group of industrialised nations. But until then, the UK had been one of the weaker members of the G7. The US economy grew by 3.3% in the fourth quarter of 2023, which was much better than expected. That put the US at 2.5% over 2023 as a whole, the best performance, Published at: 2024-05-10 08:11:34+00:00\n",
      "URL: https://www.bbc.co.uk/news/business-52986863\n",
      "\n"
     ]
    }
   ],
   "source": [
    "print(prompt)"
   ]
  },
  {
   "cell_type": "markdown",
   "metadata": {},
   "source": [
    "<a id='4-2'></a>\n",
    "### 4.2 LLM call\n",
    "\n",
    "Let's revisit the `llm_call` function, now adapted to this assignment."
   ]
  },
  {
   "cell_type": "code",
   "execution_count": 30,
   "metadata": {
    "deletable": false,
    "editable": false,
    "tags": []
   },
   "outputs": [],
   "source": [
    "def llm_call(query: str, \n",
    "             retrieve_function: callable = None, \n",
    "             top_k: int = 5, \n",
    "             use_rag: bool = True, \n",
    "             use_rerank: bool = False, \n",
    "             rerank_property: str = None, \n",
    "             rerank_query: str = None) -> str:\n",
    "    \"\"\"\n",
    "    Simulates a call to a language model by generating a prompt and using it to produce a response.\n",
    "\n",
    "    Args:\n",
    "        query (str): The initial query for which a response is sought.\n",
    "        retrieve_function (callable, optional): The function used to retrieve documents related to the query.\n",
    "        top_k (int, optional): The number of top documents to retrieve and use for generating the prompt. Defaults to 5.\n",
    "        use_rag (bool, optional): Indicates whether to use retrieval-augmented generation. Defaults to True.\n",
    "        use_rerank (bool, optional): Indicates whether to apply reranking to the retrieved documents. Defaults to False.\n",
    "        rerank_property (str, optional): The property to use for reranking. Required if 'use_rerank' is True.\n",
    "        rerank_query (str, optional): The query used specifically for reranking documents if reranking is enabled.\n",
    "\n",
    "    Returns:\n",
    "        str: The generated response content after processing the prompt with a language model.\n",
    "    \"\"\"\n",
    "    \n",
    "    # Get the prompt\n",
    "    PROMPT = generate_final_prompt(query, top_k = top_k, retrieve_function = retrieve_function, use_rag = use_rag, use_rerank = use_rerank, rerank_property = rerank_property, rerank_query = rerank_query)\n",
    "    \n",
    "    generated_response = generate_with_single_input(PROMPT)\n",
    "\n",
    "    generated_message = generated_response['content']\n",
    "    \n",
    "    return generated_message"
   ]
  },
  {
   "cell_type": "code",
   "execution_count": 31,
   "metadata": {
    "deletable": false,
    "editable": false,
    "tags": []
   },
   "outputs": [],
   "source": [
    "query = \"Tell me about United States and Brazil's relationship over the course of 2024. Provide links for the resources you use in the answer.\""
   ]
  },
  {
   "cell_type": "code",
   "execution_count": 32,
   "metadata": {
    "deletable": false,
    "editable": false,
    "tags": []
   },
   "outputs": [
    {
     "name": "stdout",
     "output_type": "stream",
     "text": [
      "The relationship between the United States and Brazil in 2024 has been shaped by various factors, including economic, political, and cultural ties. Here's an overview of the key aspects of their relationship:\n",
      "\n",
      "**Economic Ties:** Brazil is one of the largest economies in Latin America, and the US has a significant interest in the country due to its strategic location and natural resources. The two countries have a long-standing trade relationship, with the US being one of Brazil's largest trading partners. In 2024, the US-Brazil trade relationship has been strengthened, with both countries working to increase trade and investment in areas such as agriculture, energy, and infrastructure.\n",
      "\n",
      "**Brazil's Growing Influence in the Global Arena:** Brazil has been increasingly asserting its influence on the global stage, particularly through its membership in the BRICS (Brazil, Russia, India, China, and South Africa) grouping. This has led to a growing relationship between Brazil and other emerging economies, including the US. However, this has also raised concerns about Brazil's alignment with other countries, such as China, which has led to tensions with the US.\n",
      "\n",
      "**US Concerns about Brazil's Stance on Ukraine:** The US has been critical of Brazil's refusal to condemn Russia's actions in Ukraine, which has led to tensions between the two countries. The US has expressed concerns that Brazil's stance on Ukraine could undermine its efforts to promote democracy and human rights in the region.\n",
      "\n",
      "**Cultural and People-to-People Ties:** Despite the tensions, there are also strong cultural and people-to-people ties between the US and Brazil. The two countries have a long history of cultural exchange, with many Brazilians studying in the US and vice versa. In 2024, there have been several high-profile visits between US and Brazilian leaders, including a visit by US President Joe Biden to Brazil in 2023.\n",
      "\n",
      "**Reparations for Slavery:** The issue of reparations for slavery has been a contentious topic in Brazil, with some states apologizing for their role in the transatlantic slave trade. The US has also grappled with this issue, with some states apologizing for their role in the slave trade. In 2024, there have been calls for Brazil to provide reparations to African descendants in the country.\n",
      "\n",
      "**New Development Bank (NDB):** Brazil's membership in the BRICS grouping has led to the establishment of the New Development Bank (NDB), a multilateral lender that aims to\n"
     ]
    }
   ],
   "source": [
    "# Result with reranked results\n",
    "print(llm_call(query = query, \n",
    "               top_k = 5, \n",
    "               retrieve_function = hybrid_retrieve, \n",
    "               ))"
   ]
  },
  {
   "cell_type": "markdown",
   "metadata": {},
   "source": [
    "<a id='5'></a>\n",
    "## 5 - Experimenting with Your RAG System\n",
    "\n",
    "Now it is time for you to experiment with the system! Run the next cell to load a widget that will input a query, a rerank property, and output five different LLM responses:\n",
    "\n",
    "1. With semantic search\n",
    "2. With semantic search and reranking\n",
    "3. With BM25 search\n",
    "4. With hybrid search\n",
    "5. Without RAG\n"
   ]
  },
  {
   "cell_type": "code",
   "execution_count": 33,
   "metadata": {
    "deletable": false,
    "editable": false,
    "tags": []
   },
   "outputs": [
    {
     "data": {
      "application/vnd.jupyter.widget-view+json": {
       "model_id": "09276ba881c1499f83637ca2f4f36e57",
       "version_major": 2,
       "version_minor": 0
      },
      "text/plain": [
       "HTML(value='\\n    <style>\\n        .custom-output {\\n            background-color: #f9f9f9;\\n            color…"
      ]
     },
     "metadata": {},
     "output_type": "display_data"
    },
    {
     "data": {
      "application/vnd.jupyter.widget-view+json": {
       "model_id": "a9a9db2aaaaf45bc92f7a35cf8cf11a4",
       "version_major": 2,
       "version_minor": 0
      },
      "text/plain": [
       "HBox(children=(Label(value='Query:', layout=Layout(width='10%')), Text(value=\"Tell me about United States and …"
      ]
     },
     "metadata": {},
     "output_type": "display_data"
    },
    {
     "data": {
      "application/vnd.jupyter.widget-view+json": {
       "model_id": "a2c657c0d3594c9cbe259d6a6465e378",
       "version_major": 2,
       "version_minor": 0
      },
      "text/plain": [
       "IntSlider(value=5, description='Top K:', max=20, min=1, style=SliderStyle(description_width='initial'))"
      ]
     },
     "metadata": {},
     "output_type": "display_data"
    },
    {
     "data": {
      "application/vnd.jupyter.widget-view+json": {
       "model_id": "2b4badf874844494a627847150260f03",
       "version_major": 2,
       "version_minor": 0
      },
      "text/plain": [
       "Dropdown(description='Rerank Property:', options=('title', 'chunk'), style=DescriptionStyle(description_width=…"
      ]
     },
     "metadata": {},
     "output_type": "display_data"
    },
    {
     "data": {
      "application/vnd.jupyter.widget-view+json": {
       "model_id": "409a9bdba6014c3cab14a5cba4fdd86e",
       "version_major": 2,
       "version_minor": 0
      },
      "text/plain": [
       "Button(description='Get Responses', style=ButtonStyle(button_color='#eee'))"
      ]
     },
     "metadata": {},
     "output_type": "display_data"
    },
    {
     "data": {
      "application/vnd.jupyter.widget-view+json": {
       "model_id": "29198477dde445239f3c0c70d4a01a65",
       "version_major": 2,
       "version_minor": 0
      },
      "text/plain": [
       "Output()"
      ]
     },
     "metadata": {},
     "output_type": "display_data"
    },
    {
     "data": {
      "application/vnd.jupyter.widget-view+json": {
       "model_id": "110f5e0af86245ae8ddb700cb3aeb45b",
       "version_major": 2,
       "version_minor": 0
      },
      "text/plain": [
       "HBox(children=(VBox(children=(Label(value='Semantic Search'), Output(layout=Layout(border_bottom='1px solid #c…"
      ]
     },
     "metadata": {},
     "output_type": "display_data"
    },
    {
     "data": {
      "application/vnd.jupyter.widget-view+json": {
       "model_id": "a6b900ec1e2c4c79bf1f94cda1343b2e",
       "version_major": 2,
       "version_minor": 0
      },
      "text/plain": [
       "HBox(children=(VBox(children=(Label(value='Hybrid Search'), Output(layout=Layout(border_bottom='1px solid #ccc…"
      ]
     },
     "metadata": {},
     "output_type": "display_data"
    }
   ],
   "source": [
    "display_widget(llm_call, semantic_search_retrieve, bm25_retrieve, hybrid_retrieve, semantic_search_with_reranking)"
   ]
  },
  {
   "cell_type": "markdown",
   "metadata": {},
   "source": [
    "Congratulations on finishing this assignment!"
   ]
  }
 ],
 "metadata": {
  "kernelspec": {
   "display_name": "Python 3 (ipykernel)",
   "language": "python",
   "name": "python3"
  },
  "language_info": {
   "codemirror_mode": {
    "name": "ipython",
    "version": 3
   },
   "file_extension": ".py",
   "mimetype": "text/x-python",
   "name": "python",
   "nbconvert_exporter": "python",
   "pygments_lexer": "ipython3",
   "version": "3.10.12"
  }
 },
 "nbformat": 4,
 "nbformat_minor": 4
}
