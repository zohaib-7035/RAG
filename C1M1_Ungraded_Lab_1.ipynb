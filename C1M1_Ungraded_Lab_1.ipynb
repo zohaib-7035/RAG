{
 "cells": [
  {
   "cell_type": "markdown",
   "id": "3c0bb62b-6538-4640-8719-c0121b8e1fc7",
   "metadata": {},
   "source": [
    "# Ungraded Lab 1: [Optional] A Brief Python Refresher\n",
    "\n",
    "Welcome to this ungraded lab on Python fundamentals! This lab is designed to get you comfortable with some basic concepts in Python that will be used throughout this course. By the end of this lab, you'll know how to work with strings, lists, list comprehensions, dictionaries, and prompt augmentation using f-strings. **This lab is designed for developers more familiar with other programming languages, or who would appreciate a quick Python refresher. If you're a confident Python programmer, feel free to skip this ungraded lab!**\n",
    "\n",
    "### In this lab, you'll learn:\n",
    "- How to manipulate and work with strings\n",
    "- Constructing and utilizing lists and list comprehensions\n",
    "- Understanding and using dictionaries for structuring prompts\n",
    "- Implementing prompt augmentation using f-strings for dynamic text generation\n",
    "\n",
    "Let's get started!"
   ]
  },
  {
   "cell_type": "markdown",
   "id": "a31a62ae",
   "metadata": {},
   "source": [
    "\n",
    "# Table of Contents\n",
    "- [ 1 - Lists](#1)\n",
    "  - [ 1.1 Introduction](#1-1)\n",
    "  - [ 1.2 List Comprehensions](#1-2)\n",
    "- [ 2 - Dictionaries](#2)\n",
    "  - [ 2.1 Introduction](#2-1)\n",
    "  - [ 2.2 The method `.items`](#2-2)\n",
    "- [ 3 - f-strings](#3)\n",
    "  - [ 3.1 Introduction](#3-1)\n",
    "  - [ 3.2 f-strings in Action](#3-2)\n"
   ]
  },
  {
   "cell_type": "markdown",
   "id": "82515de3-96a0-4ebb-a8a0-1ee9403bf98e",
   "metadata": {},
   "source": [
    "<a id='1'></a>\n",
    "## 1 - Lists\n",
    "\n",
    "<a id='1-1'></a>\n",
    "### 1.1 Introduction\n",
    "\n",
    "A list is a built-in data type in Python used to store collections of items. Lists are ordered, changeable, and allow duplicate values."
   ]
  },
  {
   "cell_type": "code",
   "execution_count": 1,
   "id": "d9787c39-5c8c-4d52-a7c2-11ac624eaf40",
   "metadata": {
    "tags": []
   },
   "outputs": [
    {
     "name": "stdout",
     "output_type": "stream",
     "text": [
      "Original list: ['RAG', 'is', 'awesome']\n",
      "List after adding '!': ['RAG', 'is', 'awesome', '!']\n",
      "List after removing 'awesome': ['RAG', 'is', '!']\n"
     ]
    }
   ],
   "source": [
    "# Example of a list\n",
    "l1 = ['RAG', 'is', 'awesome']\n",
    "print(f\"Original list: {l1}\")\n",
    "\n",
    "# Adding an item\n",
    "l1.append('!')\n",
    "print(f\"List after adding '!': {l1}\")\n",
    "\n",
    "# Removing an item\n",
    "l1.remove('awesome')\n",
    "print(f\"List after removing 'awesome': {l1}\")"
   ]
  },
  {
   "cell_type": "code",
   "execution_count": 2,
   "id": "3ea10eef-019c-49d4-b75c-01dcc9492990",
   "metadata": {
    "tags": []
   },
   "outputs": [
    {
     "name": "stdout",
     "output_type": "stream",
     "text": [
      "None\n"
     ]
    }
   ],
   "source": [
    "# .remove and .append change the list and have no return\n",
    "result = l1.append(\"this is a test\")\n",
    "print(result)"
   ]
  },
  {
   "cell_type": "markdown",
   "id": "4ff9b5cc-d1b8-46ed-a8b1-8b8d7719e9fd",
   "metadata": {},
   "source": [
    "<a id='1-2'></a>\n",
    "### 1.2 List Comprehensions\n",
    "\n",
    "List comprehensions provide a concise way to create lists, making your code more readable and expressive. They serve as a simpler alternative to using `for` loops. While [there is a small performance gain](https://stackoverflow.com/a/22108640) when using list comprehensions, their primary advantage lies in their readability and simplicity rather than any significant performance improvement."
   ]
  },
  {
   "cell_type": "code",
   "execution_count": 3,
   "id": "f62af5c5-aa7c-4ca6-bad8-7b844d284558",
   "metadata": {
    "tags": []
   },
   "outputs": [
    {
     "name": "stdout",
     "output_type": "stream",
     "text": [
      "Squares of numbers from 0 to 9: [0, 1, 4, 9, 16, 25, 36, 49, 64, 81] (with list comprehension)\n",
      "Squares of numbers from 0 to 9: [0, 1, 4, 9, 16, 25, 36, 49, 64, 81] (without list comprehension)\n"
     ]
    }
   ],
   "source": [
    "# An example of list comprehension to create a list of squares\n",
    "squares = [x**2 for x in range(10)]\n",
    "print(f\"Squares of numbers from 0 to 9: {squares} (with list comprehension)\")\n",
    "\n",
    "\n",
    "# The same example using for loop\n",
    "squares_for_loop = []\n",
    "for x in range(10):\n",
    "    squares_for_loop.append(x**2)\n",
    "print(f\"Squares of numbers from 0 to 9: {squares_for_loop} (without list comprehension)\")"
   ]
  },
  {
   "cell_type": "code",
   "execution_count": 4,
   "id": "8998d34b-2c46-4e1e-8cda-881874dcd867",
   "metadata": {
    "tags": []
   },
   "outputs": [
    {
     "name": "stdout",
     "output_type": "stream",
     "text": [
      "Squares of even numbers from 0 to 9: [0, 4, 16, 36, 64] (with list comprehension)\n",
      "Squares of even numbers from 0 to 9: [0, 4, 16, 36, 64] (without list comprehension)\n"
     ]
    }
   ],
   "source": [
    "# Conditional list comprehension\n",
    "even_squares = [x**2 for x in range(10) if x % 2 == 0]\n",
    "print(f\"Squares of even numbers from 0 to 9: {even_squares} (with list comprehension)\")\n",
    "\n",
    "# Without list comprehension\n",
    "even_squares_for_loop = []\n",
    "for x in range(10):\n",
    "    if x % 2 == 0:\n",
    "        even_squares_for_loop.append(x**2)\n",
    "print(f\"Squares of even numbers from 0 to 9: {even_squares_for_loop} (without list comprehension)\")"
   ]
  },
  {
   "cell_type": "markdown",
   "id": "c6d3b04d-dc42-430c-9dc7-909f85edaef3",
   "metadata": {},
   "source": [
    "<a id='2'></a>\n",
    "## 2 - Dictionaries\n",
    "\n",
    "<a id='2-1'></a>\n",
    "### 2.1 Introduction\n",
    "Dictionaries are used to store data values in `key:value` pairs and are unordered, changeable, and do not allow duplicates."
   ]
  },
  {
   "cell_type": "code",
   "execution_count": 5,
   "id": "100455a4-d6d5-441e-a04f-c0c693aefee5",
   "metadata": {
    "tags": []
   },
   "outputs": [
    {
     "name": "stdout",
     "output_type": "stream",
     "text": [
      "Person dictionary: {'name': 'Alice', 'age': 25, 'city': 'New York'}\n",
      "Name: Alice\n",
      "Updated person dictionary: {'name': 'Alice', 'age': 25, 'city': 'New York', 'email': 'alice@example.com'}\n"
     ]
    }
   ],
   "source": [
    "# Example of a dictionary\n",
    "person = {\n",
    "    'name': 'Alice',\n",
    "    'age': 25,\n",
    "    'city': 'New York'\n",
    "}\n",
    "print(f\"Person dictionary: {person}\")\n",
    "\n",
    "# Accessing a value\n",
    "print(f\"Name: {person['name']}\")\n",
    "\n",
    "# Adding a new key-value pair\n",
    "person['email'] = 'alice@example.com'\n",
    "print(f\"Updated person dictionary: {person}\")"
   ]
  },
  {
   "cell_type": "markdown",
   "id": "4666c2ee-5dca-4aba-9988-390735ef90d8",
   "metadata": {},
   "source": [
    "<a id='2-2'></a>\n",
    "### 2.2 The method `.items`\n"
   ]
  },
  {
   "cell_type": "markdown",
   "id": "e1250996-2096-45de-a07f-30facfe7c2ec",
   "metadata": {},
   "source": [
    "You can also iterate over the pairs key/values in the dictionary with the method `.items`:"
   ]
  },
  {
   "cell_type": "code",
   "execution_count": 6,
   "id": "c52fea91-aa75-4f66-8538-5c719df209ce",
   "metadata": {
    "tags": []
   },
   "outputs": [
    {
     "name": "stdout",
     "output_type": "stream",
     "text": [
      "Key: name\tValue: Alice\n",
      "Key: age\tValue: 25\n",
      "Key: city\tValue: New York\n",
      "Key: email\tValue: alice@example.com\n"
     ]
    }
   ],
   "source": [
    "for key, value in person.items():\n",
    "    print(f\"Key: {key}\\tValue: {value}\")"
   ]
  },
  {
   "cell_type": "markdown",
   "id": "81406364-fa80-489c-a8ad-9e4fb01fc8aa",
   "metadata": {},
   "source": [
    "If you itereate directly on the dictionary, you will be iterating over its `keys`:"
   ]
  },
  {
   "cell_type": "code",
   "execution_count": 7,
   "id": "e32b844c-d766-47d6-972a-42754a576a37",
   "metadata": {
    "tags": []
   },
   "outputs": [
    {
     "name": "stdout",
     "output_type": "stream",
     "text": [
      "name\n",
      "age\n",
      "city\n",
      "email\n"
     ]
    }
   ],
   "source": [
    "for val in person:\n",
    "    print(val)"
   ]
  },
  {
   "cell_type": "markdown",
   "id": "7b036b9a-3e00-4ed7-b430-66422029f2b6",
   "metadata": {},
   "source": [
    "<a id='3'></a>\n",
    "## 3 - f-strings\n",
    "\n",
    "<a id='3-1'></a>\n",
    "### 3.1 Introduction\n",
    "\n",
    "Python's f-strings (formatted string literals) provide a means to embed expressions inside string literals, using curly braces `{}`. You just need to add an \"f\" before the string to turn it into an f-string. \n"
   ]
  },
  {
   "cell_type": "code",
   "execution_count": 8,
   "id": "48b99788-ef37-4f58-958f-784c150d81a6",
   "metadata": {
    "tags": []
   },
   "outputs": [
    {
     "name": "stdout",
     "output_type": "stream",
     "text": [
      "Hello, John. You are 30 years old.\n"
     ]
    }
   ],
   "source": [
    "# Basic f-string example\n",
    "name = \"John\"\n",
    "age = 30\n",
    "greeting = f\"Hello, {name}. You are {age} years old.\"\n",
    "print(greeting)"
   ]
  },
  {
   "cell_type": "markdown",
   "id": "5236a1e4-102f-46eb-a948-947afad932d1",
   "metadata": {},
   "source": [
    "<a id='3-2'></a>\n",
    "### 3.2 f-strings in Action\n",
    "\n",
    "A common way to generate a string from a set of data is by using the following method. Suppose you have a list of dictionaries containing people's information, and you want to create strings in the format:\n",
    "\n",
    "```\n",
    "Name: Alice Johnson, Age: 28, E-mail: alice.johnson@example.com, Location: New York, NY\n",
    "Name: Michael Smith, Age: 34, E-mail: michael.smith@example.com, Location: Los Angeles, CA\n",
    "... (continues)\n",
    "```"
   ]
  },
  {
   "cell_type": "code",
   "execution_count": 9,
   "id": "04c045be-551f-40e6-baed-976694a6901a",
   "metadata": {
    "tags": []
   },
   "outputs": [],
   "source": [
    "# A list of dictionaries - this structure will come up a lot in this course!\n",
    "people = [\n",
    "    {\n",
    "        \"name\": \"Alice Johnson\",\n",
    "        \"age\": 28,\n",
    "        \"email\": \"alice.johnson@example.com\",\n",
    "        \"location\": \"New York, NY\"\n",
    "    },\n",
    "    {\n",
    "        \"name\": \"Michael Smith\",\n",
    "        \"age\": 34,\n",
    "        \"email\": \"michael.smith@example.com\",\n",
    "        \"location\": \"Los Angeles, CA\"\n",
    "    },\n",
    "    {\n",
    "        \"name\": \"Emily Davis\",\n",
    "        \"age\": 22,\n",
    "        \"email\": \"emily.davis@example.com\",\n",
    "        \"location\": \"Austin, TX\"\n",
    "    },\n",
    "    {\n",
    "        \"name\": \"John Brown\",\n",
    "        \"age\": 45,\n",
    "        \"email\": \"john.brown@example.com\",\n",
    "        \"location\": \"Chicago, IL\"\n",
    "    },\n",
    "    {\n",
    "        \"name\": \"Sarah Wilson\",\n",
    "        \"age\": 31,\n",
    "        \"email\": \"sarah.wilson@example.com\",\n",
    "        \"location\": \"Seattle, WA\"\n",
    "    }\n",
    "]"
   ]
  },
  {
   "cell_type": "code",
   "execution_count": 10,
   "id": "6bc08fd7-0260-43e0-a0f5-7fb5161a2e04",
   "metadata": {
    "tags": []
   },
   "outputs": [
    {
     "name": "stdout",
     "output_type": "stream",
     "text": [
      "Name: Alice Johnson, Age: 28, E-mail: alice.johnson@example.com, Location: New York, NY\n",
      "Name: Michael Smith, Age: 34, E-mail: michael.smith@example.com, Location: Los Angeles, CA\n",
      "Name: Emily Davis, Age: 22, E-mail: emily.davis@example.com, Location: Austin, TX\n",
      "Name: John Brown, Age: 45, E-mail: john.brown@example.com, Location: Chicago, IL\n",
      "Name: Sarah Wilson, Age: 31, E-mail: sarah.wilson@example.com, Location: Seattle, WA\n"
     ]
    }
   ],
   "source": [
    "# First, create an empty list to store the sentences:\n",
    "t = []\n",
    "# Iterate over the list of dictionary\n",
    "for person_info_dict in people:\n",
    "    # person_info_dict is a dict and you can access its values using the keys\n",
    "    layout_string = f\"Name: {person_info_dict['name']}, Age: {person_info_dict['age']}, E-mail: {person_info_dict['email']}, Location: {person_info_dict['location']}\"\n",
    "    # Append the string with the desired information into the list\n",
    "    t.append(layout_string) # Add a new line character at the end\n",
    "# Create the result layout by using the .join method\n",
    "# The .join function concatenates every string in the list 't', separated by the specified delimiter. Here, each element of 't' is joined using the newline character '\\n'.print(formatted_string)\n",
    "formatted_string = \"\\n\".join(t) \n",
    "print(formatted_string)"
   ]
  },
  {
   "cell_type": "markdown",
   "id": "70bc1d40-d2e5-45b5-894f-67547013a1cc",
   "metadata": {},
   "source": [
    "**IMPORTANT**: When accessing values in a dictionary, remember that the keys are strings. Therefore, you need to use quotation marks consistently. In this example, single quotes (`'`) are used for the keys in the dictionary, whereas double quotes (`\"`) are used to delineate the string within an f-string. Not doing so will result in an error as the parser won't be able to handle the quotes properly."
   ]
  },
  {
   "cell_type": "code",
   "execution_count": 11,
   "id": "21b38aee-51ed-4a70-a253-b6eaaeca8611",
   "metadata": {
    "tags": []
   },
   "outputs": [
    {
     "name": "stdout",
     "output_type": "stream",
     "text": [
      "Name: Alice Johnson, Age: 28, E-mail: alice.johnson@example.com, Location: New York, NY\n",
      "Name: Michael Smith, Age: 34, E-mail: michael.smith@example.com, Location: Los Angeles, CA\n",
      "Name: Emily Davis, Age: 22, E-mail: emily.davis@example.com, Location: Austin, TX\n",
      "Name: John Brown, Age: 45, E-mail: john.brown@example.com, Location: Chicago, IL\n",
      "Name: Sarah Wilson, Age: 31, E-mail: sarah.wilson@example.com, Location: Seattle, WA\n"
     ]
    }
   ],
   "source": [
    "# Another way of creating strings that depend on parameters is the following:\n",
    "template = \"Name: {name}, Age: {age}, E-mail: {email}, Location: {location}\"\n",
    "t = []\n",
    "for person_info_dict in people:\n",
    "    # person_info_dict is a dict and you can access its values using the keys\n",
    "    # Append the string with a new information using the .format method\n",
    "    layout_string = template.format(name = person_info_dict['name'], \n",
    "                         age = person_info_dict['age'], \n",
    "                         email = person_info_dict['email'], \n",
    "                         location = person_info_dict['location'])\n",
    "    t.append(layout_string)\n",
    "formatted_string = \"\\n\".join(t)\n",
    "print(formatted_string)"
   ]
  },
  {
   "cell_type": "markdown",
   "id": "51c25f96-09e9-4541-8485-d7c4456bd95b",
   "metadata": {},
   "source": [
    "Great! You finished the ungraded lab on basic Python concepts used in this RAG course!"
   ]
  }
 ],
 "metadata": {
  "kernelspec": {
   "display_name": "Python 3 (ipykernel)",
   "language": "python",
   "name": "python3"
  },
  "language_info": {
   "codemirror_mode": {
    "name": "ipython",
    "version": 3
   },
   "file_extension": ".py",
   "mimetype": "text/x-python",
   "name": "python",
   "nbconvert_exporter": "python",
   "pygments_lexer": "ipython3",
   "version": "3.12.11"
  }
 },
 "nbformat": 4,
 "nbformat_minor": 5
}
